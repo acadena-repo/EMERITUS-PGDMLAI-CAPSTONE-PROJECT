{
 "cells": [
  {
   "cell_type": "markdown",
   "metadata": {},
   "source": [
    "# EMERITUS CAPSTONE PROJECT\n",
    "**_NUVEEN SALES ANALYSIS:_**\n",
    "The aim of the project is to build a machine learning model to predict _next year_ sales based on different explanatory variables which describe _current year_ sales.\n",
    "\n",
    "In the following notebooks, each one of the steps in the Machine Learning model building pipeline are described. There will be a notebook for each one of the Machine Learning Pipeline steps:\n",
    "\n",
    "1. Exploratory Data Analysis\n",
    "2. Feature Engineering\n",
    "3. Feature Selection\n",
    "4. Model Building\n",
    "\n",
    "**This is the notebook for step 3 & 4: Feature Selection and Model Building**"
   ]
  },
  {
   "cell_type": "markdown",
   "metadata": {},
   "source": [
    "## FEATURE SELECTION\n",
    "\n",
    "`Features selection` refers to procedures that will allow us to find the vast subset of features from all the variables present in the dataset, namely it is the process to identify the most predictive features. We start with the entire dataset with all the variables and by the end of the feature selection process we end up with a smaller number of features which are typically the most predictive ones.\n",
    "\n",
    "### Advantages of Feature Selection:\n",
    "\n",
    "- Utilizing less number of features minimizes the risk that we may encounter due to data errors and removing redundacy which means that many features provide the same information, for example we often find variables that take only one value (constant variables) or variables that take the same value for the great majority of the observations (quasi constant variables) these variables tend to be quite useless to make predictions, so we may get rid of them.\n",
    "\n",
    "- We also find variables with different names but identical in all of their values (duplication), so we may remove one of them.\n",
    "\n",
    "- Finally we also find correlation and correlated variables tend to provide the same information about the target that we want to predict, so there is no need to use the two variables if they're correlated including one of them already adds most of the value that can be extracted.\n"
   ]
  },
  {
   "cell_type": "markdown",
   "metadata": {},
   "source": [
    "During the Exploratory Data Analysis and Feature Engineering a discrimination of variables were made based on **features characteristics**.\n",
    "\n",
    "The criteria used to _filter_ the features to be used in our model were based on the three points exposed above, namely thru an analysis of the information provided by the variables in regards to the target prediction.\n",
    "\n",
    "The variables discarded from the raw data are:\n",
    "- CONTACT_ID\n",
    "- refresh_date\n",
    "- no_of_Redemption_12M_1\n",
    "- no_of_Redemption_12M_10K\n",
    "- no_of_funds_redeemed_12M_1\n",
    "- no_of_funds_Redemption_12M_10K\n",
    "- no_of_assetclass_redeemed_12M_1\n",
    "- no_of_assetclass_Redemption_12M_10K\n",
    "- redemption_curr\n",
    "- redemption_12M\n",
    "- aum_AC_MONEY\n",
    "- aum_AC_EQUITY\n",
    "- aum_AC_PHYSICAL_COMMODITY\n",
    "- aum_AC_REAL_ESTATE\n",
    "- aum_P_529\n",
    "- aum_P_ALT\n",
    "- aum_P_UCITS\n",
    "- aum_P_ETF\n",
    "- aum_P_UIT\n",
    "- aum_AC_FIXED_INCOME_MUNI\n",
    "- aum_AC_FIXED_INCOME_TAXABLE\n",
    "- aum_AC_MULTIPLE\n",
    "- aum_AC_TARGET\n",
    "- aum_P_CEF\n",
    "- aum_P_MF\n",
    "- aum_P_SMA\n",
    "\n",
    "After a data cleaning process a dataset with the relevant variables was saved (**_Nuveen Dataset_**). This dataset will be used to further processing throughout the `pipeline` processing.\n"
   ]
  },
  {
   "cell_type": "markdown",
   "metadata": {},
   "source": [
    "## MODEL BUILDING\n",
    "\n",
    "We come to a point where we have our data, We have processed or engineered our variables and we have already selected the features that we want to use, so now it is time to build the Machine Learning Model.\n"
   ]
  },
  {
   "cell_type": "markdown",
   "metadata": {},
   "source": [
    "## MACHINE LEARNING PIPELINE\n",
    "\n",
    "In a typical machine learning pipeline, we receive our data then we perform most likely affordably an extensive data analysis where we understand the variables and understand what we are trying to predict.\n",
    "\n",
    "Then we perform some feature engineering to leave the variables ready to be consumed by our model, we select the variables and train our machine learning models. Once we are happy with the machine learning model that we build and the performance that it shows we are able to put this model into production.\n",
    "\n",
    "So to this end we would like to build a **Pipeline** which is basically a `sequence of feature engineering steps` that we perform to the data in order to take it from raw to the engineered state and then we can use them to train our machine learning models or to score data with the model that we did.\n",
    "\n",
    "The pipeline has the characteristic that is clear to understand what the pipeline is doing, namely it is concise (small block of code that is reproducible). We can propagated it across our systems and is able to score new data very easily and therefore it is very easy to put into production.\n"
   ]
  },
  {
   "cell_type": "markdown",
   "metadata": {},
   "source": [
    "## ASSEMBLING A PIPELINE\n",
    "\n",
    "Thru the complete process to obtain a Machine Learning model, we applyed multiple feature engineering steps to tackle many aspects of the viables and next we built machine learning model with the already transformed data.\n",
    "The process as we have done follows more or less these procedure:\n",
    "\n",
    "- Impute the variables.\n",
    "- Encode the variables.\n",
    "- Transform the variables.\n",
    "- Scale the variables.\n",
    "\n",
    "In order to do this, we're going to use a series of **Transformers**\n",
    "\n",
    "Now let's say we want to transform our Train dataset. the data will follow each step to produce a dataset ready to be used by the Machine Learning model. Same case if we want to trasnform our Test dataset or a new dataset and basically we need to repeat these processes again for any data that we want to transform.\n",
    "\n",
    "As we can see the process is not complex but it could be made easier, we can assemble a `Pipeline` that contains all the feature engineering steps and if we want our machine learning model too.\n",
    "\n",
    "A `Pipeline` is an _object_ that allow us to combine all the `Transforming steps` within one block. What we need to do is we instantiate all the feature engineering steps that we performed within the pipeline.\n"
   ]
  },
  {
   "cell_type": "code",
   "execution_count": 74,
   "metadata": {},
   "outputs": [],
   "source": [
    "##IMPORTS SECTION\n",
    "import numpy as np\n",
    "import pandas as pd\n",
    "import matplotlib.pyplot as plt\n",
    "\n",
    "from sklearn.model_selection import train_test_split\n",
    "from sklearn.pipeline import Pipeline\n",
    "from sklearn.base import BaseEstimator, TransformerMixin\n",
    "from sklearn.preprocessing import StandardScaler, MinMaxScaler\n",
    "from sklearn.decomposition import PCA\n",
    "#REGRESSION MODELS\n",
    "from sklearn.linear_model import Ridge, Lasso, BayesianRidge\n",
    "from sklearn.ensemble import GradientBoostingRegressor, RandomForestRegressor\n",
    "#CLASSIFICATIONS MODELS\n",
    "from sklearn.linear_model import LogisticRegression\n",
    "from sklearn.ensemble import GradientBoostingClassifier, RandomForestClassifier\n",
    "#METRICS\n",
    "from sklearn.metrics import mean_squared_error, r2_score, roc_auc_score, classification_report, confusion_matrix\n",
    "\n",
    "\n",
    "import warnings\n",
    "warnings.filterwarnings('ignore')\n",
    "%matplotlib inline"
   ]
  },
  {
   "cell_type": "code",
   "execution_count": 28,
   "metadata": {},
   "outputs": [],
   "source": [
    "##TRANSFORMER: RARE LABEL ENCODER\n",
    "class RareLabelEncoder(BaseEstimator, TransformerMixin):\n",
    "\n",
    "    def __init__(self, threshold=0.05, variables=None):\n",
    "        \n",
    "        self.threshold = threshold\n",
    "        \n",
    "        if not isinstance(variables, list):\n",
    "            self.variables = [variables]\n",
    "        else:\n",
    "            self.variables = variables\n",
    "\n",
    "    def fit(self, X, y=None):\n",
    "        \n",
    "        self.encoder_dict_ = {}\n",
    "        \n",
    "        for var in self.variables:\n",
    "            temp = pd.Series(X[var].value_counts() / np.float(len(X)))\n",
    "            self.encoder_dict_[var] = list(temp[temp >= self.threshold].index)\n",
    "\n",
    "        return self\n",
    "\n",
    "    def transform(self, X):\n",
    "        \n",
    "        X = X.copy()\n",
    "        \n",
    "        for feature in self.variables:\n",
    "            next_cat = self.encoder_dict_[feature][-1] + 1\n",
    "            X[feature] = np.where(X[feature].isin(self.encoder_dict_[feature]), X[feature], next_cat)\n",
    "\n",
    "        return X"
   ]
  },
  {
   "cell_type": "code",
   "execution_count": 29,
   "metadata": {},
   "outputs": [],
   "source": [
    "##TRANSFORMER: LOGARITMIC TRANSFORMATION\n",
    "class LogaritmicTransformation(BaseEstimator, TransformerMixin):\n",
    "\n",
    "    def __init__(self, variables=None):\n",
    "        \n",
    "        if not isinstance(variables, list):\n",
    "            self.variables = [variables]\n",
    "        else:\n",
    "            self.variables = variables\n",
    "\n",
    "    def fit(self, X, y=None):\n",
    "        #Method implemented as requirement by sklearn pipeline\n",
    "\n",
    "        return self\n",
    "\n",
    "    def transform(self, X):\n",
    "        \n",
    "        X = X.copy()\n",
    "        \n",
    "        for feature in self.variables:\n",
    "            X[feature] = np.log1p(X[feature])\n",
    "\n",
    "        return X"
   ]
  },
  {
   "cell_type": "code",
   "execution_count": 30,
   "metadata": {},
   "outputs": [],
   "source": [
    "##TRANSFORMER: BINARIZATION\n",
    "class Binarization(BaseEstimator, TransformerMixin):\n",
    "\n",
    "    def __init__(self, bins=10, variables=None):\n",
    "        \n",
    "        self.bins = bins\n",
    "        \n",
    "        if not isinstance(variables, list):\n",
    "            self.variables = [variables]\n",
    "        else:\n",
    "            self.variables = variables\n",
    "\n",
    "    def fit(self, X, y=None):\n",
    "        #Method implemented as requirement by sklearn pipeline\n",
    "\n",
    "        return self\n",
    "\n",
    "    def transform(self, X):\n",
    "        \n",
    "        X = X.copy()\n",
    "        \n",
    "        for feature in self.variables:\n",
    "            X[feature] = pd.qcut(X[feature],q=self.bins,labels=False,duplicates='drop')\n",
    "\n",
    "        return X"
   ]
  },
  {
   "cell_type": "code",
   "execution_count": 31,
   "metadata": {},
   "outputs": [],
   "source": [
    "##TRANSFORMER: DISCRETIZATION + ENCODER\n",
    "class DiscreteEncoder(BaseEstimator, TransformerMixin):\n",
    "\n",
    "    def __init__(self, variables=None):\n",
    "        \n",
    "        if not isinstance(variables, list):\n",
    "            self.variables = [variables]\n",
    "        else:\n",
    "            self.variables = variables\n",
    "\n",
    "    def fit(self, X, y):\n",
    "        ds = pd.concat([X,y], axis=1)\n",
    "        ds.columns = list(X.columns) + ['target']\n",
    "        self.encoder_dict_ = {}\n",
    "        \n",
    "        for var in self.variables:\n",
    "            temp = ds.groupby([var])['target'].mean().sort_values(ascending=True).index\n",
    "            self.encoder_dict_[var] = {k: i for i,k in enumerate(temp,0)}\n",
    "\n",
    "        return self\n",
    "\n",
    "    def transform(self, X):\n",
    "        \n",
    "        X = X.copy()\n",
    "        \n",
    "        for feature in self.variables:\n",
    "            X[feature] = X[feature].map(self.encoder_dict_[feature])\n",
    "\n",
    "        return X"
   ]
  },
  {
   "cell_type": "code",
   "execution_count": 32,
   "metadata": {},
   "outputs": [],
   "source": [
    "##DATA LOADING\n",
    "df_nuveen = pd.read_csv('./data/Nuveen Dataset.csv')\n",
    "X = df_nuveen.drop(['sales_total','sales_12M','new_Fund_added_12M','sales_2019','Fund_added_2019'], axis=1)\n",
    "yreg = df_nuveen['sales_2019']\n",
    "ycls = df_nuveen['Fund_added_2019'].apply(lambda x: 1 if x > 0 else 0)"
   ]
  },
  {
   "cell_type": "code",
   "execution_count": 33,
   "metadata": {},
   "outputs": [
    {
     "data": {
      "text/plain": [
       "0    7484\n",
       "1    2521\n",
       "Name: Fund_added_2019, dtype: int64"
      ]
     },
     "execution_count": 33,
     "metadata": {},
     "output_type": "execute_result"
    }
   ],
   "source": [
    "ycls.value_counts()"
   ]
  },
  {
   "cell_type": "code",
   "execution_count": 34,
   "metadata": {},
   "outputs": [],
   "source": [
    "cls_0 = ycls.apply(lambda x: x if x==0 else np.nan).dropna()\n",
    "cls_1 = ycls.apply(lambda x: x if x==1 else np.nan).dropna()"
   ]
  },
  {
   "cell_type": "code",
   "execution_count": 35,
   "metadata": {},
   "outputs": [
    {
     "data": {
      "image/png": "[encoded data removed]",
      "text/plain": [
       "<Figure size 432x288 with 1 Axes>"
      ]
     },
     "metadata": {
      "needs_background": "light"
     },
     "output_type": "display_data"
    }
   ],
   "source": [
    "plt.hist(cls_0)\n",
    "plt.hist(cls_1)\n",
    "plt.show();"
   ]
  },
  {
   "cell_type": "code",
   "execution_count": 36,
   "metadata": {},
   "outputs": [],
   "source": [
    "##VARIABLES SELECTED AS PREDICTORS\n",
    "DISCRETE_VARS = ['no_of_sales_12M_1','no_of_sales_12M_10K','no_of_funds_sold_12M_1','no_of_fund_sales_12M_10K',\n",
    "                 'no_of_assetclass_sold_12M_1','no_of_assetclass_sales_12M_10K','No_of_fund_curr','No_of_asset_curr']\n",
    "\n",
    "CONTINUOUS_VARS = ['AUM','sales_curr']"
   ]
  },
  {
   "cell_type": "markdown",
   "metadata": {},
   "source": [
    "# REGRESSION MODEL"
   ]
  },
  {
   "cell_type": "code",
   "execution_count": 39,
   "metadata": {},
   "outputs": [],
   "source": [
    "##SPLIT DATA INTO TRAIN & TEST\n",
    "X_train, X_test, y_train, y_test = train_test_split(X, yreg, test_size=0.1, random_state=5)"
   ]
  },
  {
   "cell_type": "code",
   "execution_count": 40,
   "metadata": {},
   "outputs": [],
   "source": [
    "y_log_train = np.log1p(y_train)\n",
    "y_log_test = np.log1p(y_test)"
   ]
  },
  {
   "cell_type": "code",
   "execution_count": 41,
   "metadata": {},
   "outputs": [],
   "source": [
    "##PIPELINE ASSEMBLER\n",
    "regression_pipe = Pipeline(\n",
    "    [\n",
    "        ('rare_label_encoder', RareLabelEncoder(threshold=0.03, variables=DISCRETE_VARS)),\n",
    "        \n",
    "        ('log_transform', LogaritmicTransformation(variables=CONTINUOUS_VARS)),\n",
    "         \n",
    "        ('scaler', StandardScaler()),\n",
    "        \n",
    "        ('reg_model', Ridge(alpha=0.05, random_state=0))\n",
    "    ]\n",
    ")"
   ]
  },
  {
   "cell_type": "code",
   "execution_count": 42,
   "metadata": {},
   "outputs": [
    {
     "data": {
      "text/plain": [
       "Pipeline(steps=[('rare_label_encoder',\n",
       "                 RareLabelEncoder(threshold=0.03,\n",
       "                                  variables=['no_of_sales_12M_1',\n",
       "                                             'no_of_sales_12M_10K',\n",
       "                                             'no_of_funds_sold_12M_1',\n",
       "                                             'no_of_fund_sales_12M_10K',\n",
       "                                             'no_of_assetclass_sold_12M_1',\n",
       "                                             'no_of_assetclass_sales_12M_10K',\n",
       "                                             'No_of_fund_curr',\n",
       "                                             'No_of_asset_curr'])),\n",
       "                ('log_transform',\n",
       "                 LogaritmicTransformation(variables=['AUM', 'sales_curr'])),\n",
       "                ('scaler', StandardScaler()),\n",
       "                ('reg_model', Ridge(alpha=0.05, random_state=0))])"
      ]
     },
     "execution_count": 42,
     "metadata": {},
     "output_type": "execute_result"
    }
   ],
   "source": [
    "regression_pipe.fit(X_train, y_log_train)"
   ]
  },
  {
   "cell_type": "code",
   "execution_count": 43,
   "metadata": {},
   "outputs": [],
   "source": [
    "y1_pred = regression_pipe.predict(X_train)\n",
    "y2_pred = regression_pipe.predict(X_test)"
   ]
  },
  {
   "cell_type": "code",
   "execution_count": 44,
   "metadata": {
    "scrolled": true
   },
   "outputs": [
    {
     "name": "stdout",
     "output_type": "stream",
     "text": [
      "MSE for Train:15.07133610703737\n",
      "RMSE for Train:3.882181874543923\n",
      "R2 for Train:0.5130636460879996\n",
      "\n",
      "MSE for Test:13.940477371516423\n",
      "RMSE for Test:3.7336948685606894\n",
      "R2 for Test:0.5519942914988312\n"
     ]
    }
   ],
   "source": [
    "##EVALUATION\n",
    "print('MSE for Train:{}'.format(mean_squared_error(y_log_train,y1_pred)))\n",
    "print('RMSE for Train:{}'.format(np.sqrt(mean_squared_error(y_log_train,y1_pred))))\n",
    "print('R2 for Train:{}'.format(r2_score(y_log_train,y1_pred)))\n",
    "print()\n",
    "print('MSE for Test:{}'.format(mean_squared_error(y_log_test,y2_pred)))\n",
    "print('RMSE for Test:{}'.format(np.sqrt(mean_squared_error(y_log_test,y2_pred))))\n",
    "print('R2 for Test:{}'.format(r2_score(y_log_test,y2_pred)))"
   ]
  },
  {
   "cell_type": "code",
   "execution_count": 45,
   "metadata": {},
   "outputs": [
    {
     "data": {
      "image/png": "[encoded data removed]",
      "text/plain": [
       "<Figure size 432x288 with 1 Axes>"
      ]
     },
     "metadata": {
      "needs_background": "light"
     },
     "output_type": "display_data"
    }
   ],
   "source": [
    "plt.scatter(y2_pred, y_log_test)\n",
    "plt.xlabel('Prediction (Sales 2019)')\n",
    "plt.ylabel('Test (Sales 2019)')\n",
    "plt.show();"
   ]
  },
  {
   "cell_type": "code",
   "execution_count": 46,
   "metadata": {},
   "outputs": [
    {
     "data": {
      "image/png": "[encoded data removed]",
      "text/plain": [
       "<Figure size 720x360 with 1 Axes>"
      ]
     },
     "metadata": {
      "needs_background": "light"
     },
     "output_type": "display_data"
    }
   ],
   "source": [
    "sales_pred = pd.Series(y2_pred, index=y_test.index)\n",
    "\n",
    "fig, ax = plt.subplots(1,1,figsize=(10,5))\n",
    "sales_pred.plot(kind='kde', ax=ax)\n",
    "y_log_test.plot(kind='kde', ax=ax)\n",
    "plt.show();"
   ]
  },
  {
   "cell_type": "code",
   "execution_count": 47,
   "metadata": {},
   "outputs": [
    {
     "data": {
      "text/plain": [
       "<AxesSubplot:>"
      ]
     },
     "execution_count": 47,
     "metadata": {},
     "output_type": "execute_result"
    },
    {
     "data": {
      "image/png": "[encoded data removed]",
      "text/plain": [
       "<Figure size 1080x360 with 2 Axes>"
      ]
     },
     "metadata": {
      "needs_background": "light"
     },
     "output_type": "display_data"
    }
   ],
   "source": [
    "resid = (y_log_test - sales_pred)\n",
    "fig, ax = plt.subplots(1,2,figsize=(15,5))\n",
    "resid.hist(bins=30, ax=ax[0])\n",
    "resid.plot.box(ax=ax[1])"
   ]
  },
  {
   "cell_type": "markdown",
   "metadata": {},
   "source": [
    "# CLASSIFICATION MODEL"
   ]
  },
  {
   "cell_type": "code",
   "execution_count": 88,
   "metadata": {},
   "outputs": [],
   "source": [
    "##SPLIT DATA INTO TRAIN & TEST\n",
    "Xc_train, Xc_test, yc_train, yc_test = train_test_split(X, ycls, test_size=0.1, random_state=5)"
   ]
  },
  {
   "cell_type": "code",
   "execution_count": 100,
   "metadata": {},
   "outputs": [],
   "source": [
    "##PIPELINE ASSEMBLER\n",
    "classification_pipe = Pipeline(\n",
    "    [\n",
    "        ('rare_label_encoder', RareLabelEncoder(threshold=0.03, variables=DISCRETE_VARS)),\n",
    "        \n",
    "#         ('binarization', Binarization(bins=20, variables=CONTINUOUS_VARS)),\n",
    "        \n",
    "#         ('discrete_encoder', DiscreteEncoder(variables=CONTINUOUS_VARS)),\n",
    "         \n",
    "        ('scaler', StandardScaler()),\n",
    "        \n",
    "        ('pca', PCA(n_components=0.95, svd_solver='full')),\n",
    "        \n",
    "        ('class_model', RandomForestClassifier(n_estimators=100, max_depth=5, class_weight='balanced',random_state=0))\n",
    "\n",
    "    ]\n",
    ")"
   ]
  },
  {
   "cell_type": "code",
   "execution_count": 101,
   "metadata": {},
   "outputs": [
    {
     "data": {
      "text/plain": [
       "Pipeline(steps=[('rare_label_encoder',\n",
       "                 RareLabelEncoder(threshold=0.03,\n",
       "                                  variables=['no_of_sales_12M_1',\n",
       "                                             'no_of_sales_12M_10K',\n",
       "                                             'no_of_funds_sold_12M_1',\n",
       "                                             'no_of_fund_sales_12M_10K',\n",
       "                                             'no_of_assetclass_sold_12M_1',\n",
       "                                             'no_of_assetclass_sales_12M_10K',\n",
       "                                             'No_of_fund_curr',\n",
       "                                             'No_of_asset_curr'])),\n",
       "                ('scaler', StandardScaler()),\n",
       "                ('pca', PCA(n_components=0.95, svd_solver='full')),\n",
       "                ('class_model',\n",
       "                 RandomForestClassifier(class_weight='balanced', max_depth=5,\n",
       "                                        random_state=0))])"
      ]
     },
     "execution_count": 101,
     "metadata": {},
     "output_type": "execute_result"
    }
   ],
   "source": [
    "classification_pipe.fit(Xc_train, yc_train)"
   ]
  },
  {
   "cell_type": "code",
   "execution_count": 102,
   "metadata": {},
   "outputs": [],
   "source": [
    "y1_prob = classification_pipe.predict_proba(X_train)[:,1]\n",
    "y2_prob = classification_pipe.predict_proba(X_test)[:,1]"
   ]
  },
  {
   "cell_type": "code",
   "execution_count": 103,
   "metadata": {},
   "outputs": [
    {
     "name": "stdout",
     "output_type": "stream",
     "text": [
      "Train ROC-AUC:0.7400890270210688\n",
      "Test ROC-AUC:0.7168530599565083\n"
     ]
    }
   ],
   "source": [
    "##EVALUATION\n",
    "print('Train ROC-AUC:{}'.format(roc_auc_score(yc_train,y1_prob)))\n",
    "print('Test ROC-AUC:{}'.format(roc_auc_score(yc_test,y2_prob)))"
   ]
  },
  {
   "cell_type": "markdown",
   "metadata": {},
   "source": [
    "### _CLASSIFICATION REPORT_\n",
    "\n",
    "The classification report is a key metrics in a classification problem. It shows:for each class you're trying to find.\n",
    "\n",
    "- Precision which means `how many of all predictions were correctly classified` **_Precision = TP/(TP+FP)_**\n",
    "- Recall which means `how many of this class were correctly classified` **_Recall = TP/(TP+FN)_**\n",
    "- F1-score which is the `harmonic mean between precision & recall` **_F1 = 2*Precision*Recall/Precision+Recall_**\n",
    "\n",
    "The support is the number of occurence of the given class in the dataset"
   ]
  },
  {
   "cell_type": "code",
   "execution_count": 104,
   "metadata": {},
   "outputs": [],
   "source": [
    "x1_pred = classification_pipe.predict(X_train)\n",
    "x2_pred = classification_pipe.predict(X_test)"
   ]
  },
  {
   "cell_type": "code",
   "execution_count": 105,
   "metadata": {
    "scrolled": false
   },
   "outputs": [
    {
     "name": "stdout",
     "output_type": "stream",
     "text": [
      "Train Dataset Report:\n",
      "              precision    recall  f1-score   support\n",
      "\n",
      "           0       0.88      0.60      0.71      6744\n",
      "           1       0.39      0.76      0.51      2260\n",
      "\n",
      "    accuracy                           0.64      9004\n",
      "   macro avg       0.63      0.68      0.61      9004\n",
      "weighted avg       0.76      0.64      0.66      9004\n",
      "\n",
      "Test Dataset Report:\n",
      "              precision    recall  f1-score   support\n",
      "\n",
      "           0       0.88      0.58      0.70       740\n",
      "           1       0.39      0.77      0.52       261\n",
      "\n",
      "    accuracy                           0.63      1001\n",
      "   macro avg       0.64      0.68      0.61      1001\n",
      "weighted avg       0.75      0.63      0.65      1001\n",
      "\n"
     ]
    }
   ],
   "source": [
    "print('Train Dataset Report:')\n",
    "print(classification_report(yc_train,x1_pred))\n",
    "print('Test Dataset Report:')\n",
    "print(classification_report(yc_test,x2_pred))"
   ]
  },
  {
   "cell_type": "code",
   "execution_count": 106,
   "metadata": {},
   "outputs": [
    {
     "name": "stdout",
     "output_type": "stream",
     "text": [
      "TN:4042 FP:2702 N:6744\n",
      "TP:1712 FN:548 P:2260\n"
     ]
    },
    {
     "data": {
      "text/plain": [
       "array([[4042, 2702],\n",
       "       [ 548, 1712]], dtype=int64)"
      ]
     },
     "execution_count": 106,
     "metadata": {},
     "output_type": "execute_result"
    }
   ],
   "source": [
    "tn,fp,fn,tp = confusion_matrix(yc_train,x1_pred).ravel()\n",
    "print('TN:{0} FP:{1} N:{2}'.format(tn,fp,(tn+fp)))\n",
    "print('TP:{0} FN:{1} P:{2}'.format(tp,fn,(tp+fn)))\n",
    "confusion_matrix(yc_train,x1_pred)"
   ]
  },
  {
   "cell_type": "code",
   "execution_count": 107,
   "metadata": {},
   "outputs": [
    {
     "name": "stdout",
     "output_type": "stream",
     "text": [
      "TN:432 FP:308 N:740\n",
      "TP:201 FN:60 P:261\n"
     ]
    },
    {
     "data": {
      "text/plain": [
       "array([[432, 308],\n",
       "       [ 60, 201]], dtype=int64)"
      ]
     },
     "execution_count": 107,
     "metadata": {},
     "output_type": "execute_result"
    }
   ],
   "source": [
    "tn,fp,fn,tp = confusion_matrix(yc_test,x2_pred).ravel()\n",
    "print('TN:{0} FP:{1} N:{2}'.format(tn,fp,(tn+fp)))\n",
    "print('TP:{0} FN:{1} P:{2}'.format(tp,fn,(tp+fn)))\n",
    "confusion_matrix(yc_test,x2_pred)"
   ]
  }
 ],
 "metadata": {
  "kernelspec": {
   "display_name": "Python 3",
   "language": "python",
   "name": "python3"
  },
  "language_info": {
   "codemirror_mode": {
    "name": "ipython",
    "version": 3
   },
   "file_extension": ".py",
   "mimetype": "text/x-python",
   "name": "python",
   "nbconvert_exporter": "python",
   "pygments_lexer": "ipython3",
   "version": "3.7.3"
  }
 },
 "nbformat": 4,
 "nbformat_minor": 4
}
