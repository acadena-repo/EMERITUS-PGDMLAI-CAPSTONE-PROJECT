{
 "cells": [
  {
   "cell_type": "markdown",
   "metadata": {},
   "source": [
    "# EMERITUS CAPSTONE PROJECT\n",
    "**_NUVEEN SALES ANALYSIS:_**\n",
    "The aim of the project is to build a machine learning model to predict _next year_ sales based on different explanatory variables which describe _current year_ sales.\n",
    "\n",
    "Once the Machine Learning model has been built, the next step is to evaluate the performance of our model so we can calibrate it according with the optimum outcome for the application.\n",
    "\n",
    "Furthermore, some preparation to present the results of the model's benefits must be performed in order to communicate the results to **non-technical audiences**."
   ]
  },
  {
   "cell_type": "code",
   "execution_count": 1,
   "metadata": {},
   "outputs": [],
   "source": [
    "##IMPORTS SECTION\n",
    "import numpy as np\n",
    "import pandas as pd\n",
    "import matplotlib.pyplot as plt\n",
    "\n",
    "from sklearn.model_selection import train_test_split\n",
    "from sklearn.pipeline import Pipeline\n",
    "from sklearn.base import BaseEstimator, TransformerMixin\n",
    "from sklearn.preprocessing import StandardScaler\n",
    "from sklearn.decomposition import PCA\n",
    "#REGRESSION MODEL\n",
    "from sklearn.linear_model import Ridge, LogisticRegression\n",
    "#CLASSIFICATIONS MODELS\n",
    "from sklearn.ensemble import RandomForestClassifier\n",
    "#METRICS\n",
    "from sklearn.metrics import mean_squared_error, r2_score, roc_auc_score, classification_report, roc_curve, confusion_matrix\n",
    "\n",
    "import warnings\n",
    "warnings.filterwarnings('ignore')\n",
    "%matplotlib inline"
   ]
  },
  {
   "cell_type": "code",
   "execution_count": 2,
   "metadata": {},
   "outputs": [],
   "source": [
    "##TRANSFORMER: RARE LABEL ENCODER\n",
    "class RareLabelEncoder(BaseEstimator, TransformerMixin):\n",
    "\n",
    "    def __init__(self, threshold=0.05, variables=None):\n",
    "        \n",
    "        self.threshold = threshold\n",
    "        \n",
    "        if not isinstance(variables, list):\n",
    "            self.variables = [variables]\n",
    "        else:\n",
    "            self.variables = variables\n",
    "\n",
    "    def fit(self, X, y=None):\n",
    "        \n",
    "        self.encoder_dict_ = {}\n",
    "        \n",
    "        for var in self.variables:\n",
    "            temp = pd.Series(X[var].value_counts() / np.float(len(X)))\n",
    "            self.encoder_dict_[var] = list(temp[temp >= self.threshold].index)\n",
    "\n",
    "        return self\n",
    "\n",
    "    def transform(self, X):\n",
    "        \n",
    "        X = X.copy()\n",
    "        \n",
    "        for feature in self.variables:\n",
    "            next_cat = self.encoder_dict_[feature][-1] + 1\n",
    "            X[feature] = np.where(X[feature].isin(self.encoder_dict_[feature]), X[feature], next_cat)\n",
    "\n",
    "        return X"
   ]
  },
  {
   "cell_type": "code",
   "execution_count": 3,
   "metadata": {},
   "outputs": [],
   "source": [
    "##TRANSFORMER: LOGARITMIC TRANSFORMATION\n",
    "class LogaritmicTransformation(BaseEstimator, TransformerMixin):\n",
    "\n",
    "    def __init__(self, variables=None):\n",
    "        \n",
    "        if not isinstance(variables, list):\n",
    "            self.variables = [variables]\n",
    "        else:\n",
    "            self.variables = variables\n",
    "\n",
    "    def fit(self, X, y=None):\n",
    "        #Method implemented as requirement by sklearn pipeline\n",
    "\n",
    "        return self\n",
    "\n",
    "    def transform(self, X):\n",
    "        \n",
    "        X = X.copy()\n",
    "        \n",
    "        for feature in self.variables:\n",
    "            X[feature] = np.log1p(X[feature])\n",
    "\n",
    "        return X"
   ]
  },
  {
   "cell_type": "code",
   "execution_count": 4,
   "metadata": {},
   "outputs": [],
   "source": [
    "##LOAD DATASETS\n",
    "dsadvr = pd.read_excel('./data/Transaction Data.xlsx',sheet_name='Transactions18')\n",
    "dsfirm = pd.read_excel('./data/Firm Information.xlsx',sheet_name='Rep summary')\n",
    "\n",
    "df_nuveen = pd.read_csv('./data/Nuveen Dataset.csv')\n",
    "X = df_nuveen.drop(['sales_total','sales_12M','new_Fund_added_12M','sales_2019','Fund_added_2019'], axis=1)\n",
    "yreg = df_nuveen['sales_2019']\n",
    "ycls = df_nuveen['Fund_added_2019'].apply(lambda x: 1 if x > 0 else 0)"
   ]
  },
  {
   "cell_type": "markdown",
   "metadata": {},
   "source": [
    "## ADVISER & FIRM MAPPERS"
   ]
  },
  {
   "cell_type": "code",
   "execution_count": 5,
   "metadata": {},
   "outputs": [],
   "source": [
    "adviser_lookup = {idx: contact_id for idx, contact_id in enumerate(dsadvr['CONTACT_ID'])}\n",
    "firm_lookup = {idx: contact_id for idx, contact_id in enumerate(dsfirm['Contact ID'])}"
   ]
  },
  {
   "cell_type": "markdown",
   "metadata": {},
   "source": [
    "## MODEL EVALUATION AND CALIBRATION"
   ]
  },
  {
   "cell_type": "code",
   "execution_count": 6,
   "metadata": {},
   "outputs": [],
   "source": [
    "##VARIABLES SELECTED AS PREDICTORS\n",
    "DISCRETE_VARS = ['no_of_sales_12M_1','no_of_sales_12M_10K','no_of_funds_sold_12M_1','no_of_fund_sales_12M_10K',\n",
    "                 'no_of_assetclass_sold_12M_1','no_of_assetclass_sales_12M_10K','No_of_fund_curr','No_of_asset_curr']\n",
    "\n",
    "CONTINUOUS_VARS = ['AUM','sales_curr']"
   ]
  },
  {
   "cell_type": "markdown",
   "metadata": {},
   "source": [
    "## SALES PREDICTION\n",
    "\n",
    "A Regression model is used to predict sales but in order to evaluate the model performance, the problem will be treat it as Classification first, namely the problem is set to asnwer the question: Which are the advisers that **made a sale**?\n",
    "\n",
    "The prediction of the Classification model is used to _filter_ the predictions made by the Regression model. Due to the Classification model has the task to separate the advisers that made a sale or not, the model is evaluated and then calibrated so its predictions can help us in the sales predictions."
   ]
  },
  {
   "cell_type": "code",
   "execution_count": 7,
   "metadata": {},
   "outputs": [],
   "source": [
    "y_sales = yreg.apply(lambda x: 1 if x > 0 else 0)"
   ]
  },
  {
   "cell_type": "code",
   "execution_count": 8,
   "metadata": {},
   "outputs": [],
   "source": [
    "##SPLIT DATA INTO TRAIN & TEST\n",
    "X_train, X_test, yc_train, yc_test = train_test_split(X, y_sales, test_size=0.1, random_state=5)"
   ]
  },
  {
   "cell_type": "code",
   "execution_count": 9,
   "metadata": {},
   "outputs": [],
   "source": [
    "##PIPELINE ASSEMBLER\n",
    "sales_clf = Pipeline(\n",
    "    [\n",
    "        ('rare_label_encoder', RareLabelEncoder(threshold=0.03, variables=DISCRETE_VARS)),\n",
    "         \n",
    "        ('scaler', StandardScaler()),\n",
    "        \n",
    "        ('pca', PCA(n_components=0.95, svd_solver='full')),\n",
    "        \n",
    "        ('log_reg', LogisticRegression(random_state=0))\n",
    "    ]\n",
    ")"
   ]
  },
  {
   "cell_type": "code",
   "execution_count": 10,
   "metadata": {
    "scrolled": true
   },
   "outputs": [
    {
     "data": {
      "text/plain": [
       "Pipeline(memory=None,\n",
       "     steps=[('rare_label_encoder', RareLabelEncoder(threshold=0.03,\n",
       "         variables=['no_of_sales_12M_1', 'no_of_sales_12M_10K', 'no_of_funds_sold_12M_1', 'no_of_fund_sales_12M_10K', 'no_of_assetclass_sold_12M_1', 'no_of_assetclass_sales_12M_10K', 'No_of_fund_curr', 'No_of_asset_curr'])), ('scaler', S...e, penalty='l2', random_state=0, solver='warn',\n",
       "          tol=0.0001, verbose=0, warm_start=False))])"
      ]
     },
     "execution_count": 10,
     "metadata": {},
     "output_type": "execute_result"
    }
   ],
   "source": [
    "sales_clf.fit(X_train, yc_train)"
   ]
  },
  {
   "cell_type": "markdown",
   "metadata": {},
   "source": [
    "## Receiver-Operating-Characteristic Curve"
   ]
  },
  {
   "cell_type": "code",
   "execution_count": 11,
   "metadata": {},
   "outputs": [],
   "source": [
    "##TRUE-POSITIVE ; TRUE-NEGATIVE ; FALSE-POSITIVE ; FALSE-NEGATIVE CALCULATION\n",
    "def tptn_fpfn_counts(row):\n",
    "    if row['y_real'] == 1 and row['y_hat'] == 1:\n",
    "        return 'TP'\n",
    "    if row['y_real'] == 0 and row['y_hat'] == 0:\n",
    "        return 'TN'\n",
    "    if row['y_real'] == 0 and row['y_hat'] == 1:\n",
    "        return 'FP'\n",
    "    if row['y_real'] == 1 and row['y_hat'] == 0:\n",
    "        return 'FN'\n",
    "    "
   ]
  },
  {
   "cell_type": "code",
   "execution_count": 12,
   "metadata": {},
   "outputs": [],
   "source": [
    "adviser_sales = pd.DataFrame(index=yc_test.index)\n",
    "adviser_sales['y_real'] = yc_test\n",
    "adviser_sales['y_pred'] = sales_clf.predict(X_test)\n",
    "adviser_sales['y_score'] = sales_clf.predict_proba(X_test)[:,1]\n",
    "adviser_sales['TP'] = 0\n",
    "adviser_sales['TN'] = 0\n",
    "adviser_sales['FP'] = 0\n",
    "adviser_sales['FN'] = 0\n",
    "adviser_sales['Thld'] = 0"
   ]
  },
  {
   "cell_type": "code",
   "execution_count": 13,
   "metadata": {},
   "outputs": [
    {
     "name": "stdout",
     "output_type": "stream",
     "text": [
      "TN:405 FP:75 N:480\n",
      "TP:400 FN:121 P:521\n"
     ]
    },
    {
     "data": {
      "text/plain": [
       "array([[405,  75],\n",
       "       [121, 400]], dtype=int64)"
      ]
     },
     "execution_count": 13,
     "metadata": {},
     "output_type": "execute_result"
    }
   ],
   "source": [
    "tn,fp,fn,tp = confusion_matrix(adviser_sales['y_real'],adviser_sales['y_pred']).ravel()\n",
    "print('TN:{0} FP:{1} N:{2}'.format(tn,fp,(tn+fp)))\n",
    "print('TP:{0} FN:{1} P:{2}'.format(tp,fn,(tp+fn)))\n",
    "confusion_matrix(adviser_sales['y_real'],adviser_sales['y_pred'])"
   ]
  },
  {
   "cell_type": "code",
   "execution_count": 14,
   "metadata": {},
   "outputs": [
    {
     "data": {
      "text/html": [
       "<div>\n",
       "<style scoped>\n",
       "    .dataframe tbody tr th:only-of-type {\n",
       "        vertical-align: middle;\n",
       "    }\n",
       "\n",
       "    .dataframe tbody tr th {\n",
       "        vertical-align: top;\n",
       "    }\n",
       "\n",
       "    .dataframe thead th {\n",
       "        text-align: right;\n",
       "    }\n",
       "</style>\n",
       "<table border=\"1\" class=\"dataframe\">\n",
       "  <thead>\n",
       "    <tr style=\"text-align: right;\">\n",
       "      <th></th>\n",
       "      <th>y_real</th>\n",
       "      <th>y_pred</th>\n",
       "      <th>y_score</th>\n",
       "      <th>TP</th>\n",
       "      <th>TN</th>\n",
       "      <th>FP</th>\n",
       "      <th>FN</th>\n",
       "      <th>Thld</th>\n",
       "    </tr>\n",
       "  </thead>\n",
       "  <tbody>\n",
       "    <tr>\n",
       "      <th>9668</th>\n",
       "      <td>0</td>\n",
       "      <td>1</td>\n",
       "      <td>0.902074</td>\n",
       "      <td>0</td>\n",
       "      <td>0</td>\n",
       "      <td>0</td>\n",
       "      <td>0</td>\n",
       "      <td>0</td>\n",
       "    </tr>\n",
       "    <tr>\n",
       "      <th>442</th>\n",
       "      <td>1</td>\n",
       "      <td>1</td>\n",
       "      <td>0.981503</td>\n",
       "      <td>0</td>\n",
       "      <td>0</td>\n",
       "      <td>0</td>\n",
       "      <td>0</td>\n",
       "      <td>0</td>\n",
       "    </tr>\n",
       "    <tr>\n",
       "      <th>4410</th>\n",
       "      <td>1</td>\n",
       "      <td>1</td>\n",
       "      <td>0.963846</td>\n",
       "      <td>0</td>\n",
       "      <td>0</td>\n",
       "      <td>0</td>\n",
       "      <td>0</td>\n",
       "      <td>0</td>\n",
       "    </tr>\n",
       "    <tr>\n",
       "      <th>2289</th>\n",
       "      <td>0</td>\n",
       "      <td>0</td>\n",
       "      <td>0.230744</td>\n",
       "      <td>0</td>\n",
       "      <td>0</td>\n",
       "      <td>0</td>\n",
       "      <td>0</td>\n",
       "      <td>0</td>\n",
       "    </tr>\n",
       "    <tr>\n",
       "      <th>2174</th>\n",
       "      <td>0</td>\n",
       "      <td>0</td>\n",
       "      <td>0.220453</td>\n",
       "      <td>0</td>\n",
       "      <td>0</td>\n",
       "      <td>0</td>\n",
       "      <td>0</td>\n",
       "      <td>0</td>\n",
       "    </tr>\n",
       "  </tbody>\n",
       "</table>\n",
       "</div>"
      ],
      "text/plain": [
       "      y_real  y_pred   y_score  TP  TN  FP  FN  Thld\n",
       "9668       0       1  0.902074   0   0   0   0     0\n",
       "442        1       1  0.981503   0   0   0   0     0\n",
       "4410       1       1  0.963846   0   0   0   0     0\n",
       "2289       0       0  0.230744   0   0   0   0     0\n",
       "2174       0       0  0.220453   0   0   0   0     0"
      ]
     },
     "execution_count": 14,
     "metadata": {},
     "output_type": "execute_result"
    }
   ],
   "source": [
    "Thresholds = adviser_sales['y_score'].unique()\n",
    "counts = []\n",
    "for th in Thresholds:\n",
    "    memo = {'TP':0,'TN':0,'FP':0,'FN':0,'Thld':0}\n",
    "    adviser_sales['y_hat'] = (adviser_sales['y_score'] > th)*1\n",
    "    adviser_sales['CM'] = adviser_sales.apply(tptn_fpfn_counts, axis=1)\n",
    "    values = adviser_sales['CM'].value_counts().to_dict()\n",
    "    memo['TP'] = values.get('TP',0)\n",
    "    memo['TN'] = values.get('TN',0)\n",
    "    memo['FP'] = values.get('FP',0)\n",
    "    memo['FN'] = values.get('FN',0)\n",
    "    memo['Thld'] = th\n",
    "    counts.append(memo)\n",
    "    \n",
    "adviser_sales.drop(['y_hat','CM'],axis=1, inplace=True)\n",
    "adviser_sales.head()"
   ]
  },
  {
   "cell_type": "code",
   "execution_count": 15,
   "metadata": {},
   "outputs": [],
   "source": [
    "def cm_values(val):\n",
    "    \n",
    "    def cm_count(row):\n",
    "        if row['y_score'] == val['Thld']:\n",
    "            row['TP'] = val['TP']\n",
    "            row['TN'] = val['TN']\n",
    "            row['FP'] = val['FP']\n",
    "            row['FN'] = val['FN']\n",
    "            row['Thld'] = val['Thld']\n",
    "            \n",
    "    return cm_count"
   ]
  },
  {
   "cell_type": "code",
   "execution_count": 16,
   "metadata": {},
   "outputs": [],
   "source": [
    "for c in counts:\n",
    "    for i in adviser_sales.index:\n",
    "        if adviser_sales.loc[i,'y_score'] == c['Thld']:\n",
    "            adviser_sales.loc[i,'TP'] = c['TP']\n",
    "            adviser_sales.loc[i,'TN'] = c['TN']\n",
    "            adviser_sales.loc[i,'FP'] = c['FP']\n",
    "            adviser_sales.loc[i,'FN'] = c['FN']\n",
    "            adviser_sales.loc[i,'Thld'] = c['Thld']"
   ]
  },
  {
   "cell_type": "code",
   "execution_count": 17,
   "metadata": {},
   "outputs": [],
   "source": [
    "##TRUE-POSITIVE RATE & FALSE-POSITIVE RATE CALCULATION\n",
    "adviser_sales['TPR'] = adviser_sales['TP']/(adviser_sales['TP'] + adviser_sales['FN'])\n",
    "adviser_sales['FPR'] = adviser_sales['FP']/(adviser_sales['FP'] + adviser_sales['TN'])"
   ]
  },
  {
   "cell_type": "code",
   "execution_count": 18,
   "metadata": {},
   "outputs": [
    {
     "data": {
      "image/png": "[encoded data removed]",
      "text/plain": [
       "<Figure size 1152x576 with 2 Axes>"
      ]
     },
     "metadata": {
      "needs_background": "light"
     },
     "output_type": "display_data"
    }
   ],
   "source": [
    "##ROC CURVE\n",
    "fpr, tpr, thr = roc_curve(adviser_sales['y_real'], adviser_sales['y_score'])\n",
    "roc_graph = pd.DataFrame({'fpr':fpr,'tpr':tpr,'thr':thr})\n",
    "roc_graph['random'] = roc_graph['fpr']\n",
    "fig, ax = plt.subplots(1,2,figsize=(16,8))\n",
    "roc_graph.plot(x='fpr',y='random',ax=ax[0], grid=True, legend=False, style='k--')\n",
    "roc_graph.plot(x='fpr',y='tpr', ax=ax[0], grid=True, legend=False)\n",
    "ax[0].set_xlabel('False Positive Rate')\n",
    "ax[0].set_ylabel('True Positive Rate')\n",
    "ax[0].set_title('ROC-CURVE - Advisers Sales Classifier')\n",
    "\n",
    "ax[1].scatter(adviser_sales['FPR'],adviser_sales['TPR'])\n",
    "roc_graph.plot(x='fpr',y='random',ax=ax[1], grid=True, legend=False, style='k--')\n",
    "ax[1].set_xlabel('False Positive Rate')\n",
    "ax[1].set_ylabel('True Positive Rate')\n",
    "ax[1].set_title('ROC-CURVE - Advisers Sales Classifier')\n",
    "plt.show();"
   ]
  },
  {
   "cell_type": "markdown",
   "metadata": {},
   "source": [
    "The ROC-Curve show us the relation between the `True Positive Rate` which is the model's ability to _find_ the cases of interest among all of them, namely how **sensitive** is the model to predict the class of interest. And the `False Positive Rate` which is the proportion of cases that were wgronly classified as _goog case_.\n",
    "\n",
    "Another way to interpret the `True Positive Rate` is in terms of **benefits** and the `False Positive Rate` as the **cost** associated in our prediction. The point that intersects both values is the `Threshold` set by the model to _differenciate_ between both classes.\n",
    "\n",
    "From the above ROC-Curves it can be noticed that a `Threshold` around **[0.2,0.83]** give us a better tradeoff to pedict more less _83%_ of the cases with a minimum cost of _20%_.\n",
    "\n",
    "To optimize this threshold, it is convenient to estimate:\n",
    "$$maxarg (True Positive Rate - False Positive Rate)$$\n"
   ]
  },
  {
   "cell_type": "code",
   "execution_count": 19,
   "metadata": {},
   "outputs": [
    {
     "data": {
      "text/plain": [
       "0.8503418905950098"
      ]
     },
     "execution_count": 19,
     "metadata": {},
     "output_type": "execute_result"
    }
   ],
   "source": [
    "roc_auc_score(adviser_sales['y_real'],adviser_sales['y_score'])"
   ]
  },
  {
   "cell_type": "code",
   "execution_count": 20,
   "metadata": {
    "scrolled": true
   },
   "outputs": [
    {
     "data": {
      "text/html": [
       "<div>\n",
       "<style scoped>\n",
       "    .dataframe tbody tr th:only-of-type {\n",
       "        vertical-align: middle;\n",
       "    }\n",
       "\n",
       "    .dataframe tbody tr th {\n",
       "        vertical-align: top;\n",
       "    }\n",
       "\n",
       "    .dataframe thead th {\n",
       "        text-align: right;\n",
       "    }\n",
       "</style>\n",
       "<table border=\"1\" class=\"dataframe\">\n",
       "  <thead>\n",
       "    <tr style=\"text-align: right;\">\n",
       "      <th></th>\n",
       "      <th>y_real</th>\n",
       "      <th>y_pred</th>\n",
       "      <th>y_score</th>\n",
       "      <th>TP</th>\n",
       "      <th>TN</th>\n",
       "      <th>FP</th>\n",
       "      <th>FN</th>\n",
       "      <th>Thld</th>\n",
       "      <th>TPR</th>\n",
       "      <th>FPR</th>\n",
       "      <th>TPR - FPR</th>\n",
       "    </tr>\n",
       "  </thead>\n",
       "  <tbody>\n",
       "    <tr>\n",
       "      <th>2231</th>\n",
       "      <td>0</td>\n",
       "      <td>0</td>\n",
       "      <td>0.250021</td>\n",
       "      <td>421</td>\n",
       "      <td>396</td>\n",
       "      <td>84</td>\n",
       "      <td>100</td>\n",
       "      <td>0.250021</td>\n",
       "      <td>0.808061</td>\n",
       "      <td>0.175000</td>\n",
       "      <td>0.633061</td>\n",
       "    </tr>\n",
       "    <tr>\n",
       "      <th>5582</th>\n",
       "      <td>0</td>\n",
       "      <td>0</td>\n",
       "      <td>0.243229</td>\n",
       "      <td>425</td>\n",
       "      <td>392</td>\n",
       "      <td>88</td>\n",
       "      <td>96</td>\n",
       "      <td>0.243229</td>\n",
       "      <td>0.815739</td>\n",
       "      <td>0.183333</td>\n",
       "      <td>0.632406</td>\n",
       "    </tr>\n",
       "    <tr>\n",
       "      <th>7109</th>\n",
       "      <td>0</td>\n",
       "      <td>0</td>\n",
       "      <td>0.267195</td>\n",
       "      <td>419</td>\n",
       "      <td>397</td>\n",
       "      <td>83</td>\n",
       "      <td>102</td>\n",
       "      <td>0.267195</td>\n",
       "      <td>0.804223</td>\n",
       "      <td>0.172917</td>\n",
       "      <td>0.631306</td>\n",
       "    </tr>\n",
       "    <tr>\n",
       "      <th>1112</th>\n",
       "      <td>1</td>\n",
       "      <td>0</td>\n",
       "      <td>0.251239</td>\n",
       "      <td>420</td>\n",
       "      <td>396</td>\n",
       "      <td>84</td>\n",
       "      <td>101</td>\n",
       "      <td>0.251239</td>\n",
       "      <td>0.806142</td>\n",
       "      <td>0.175000</td>\n",
       "      <td>0.631142</td>\n",
       "    </tr>\n",
       "    <tr>\n",
       "      <th>2527</th>\n",
       "      <td>0</td>\n",
       "      <td>0</td>\n",
       "      <td>0.249259</td>\n",
       "      <td>421</td>\n",
       "      <td>395</td>\n",
       "      <td>85</td>\n",
       "      <td>100</td>\n",
       "      <td>0.249259</td>\n",
       "      <td>0.808061</td>\n",
       "      <td>0.177083</td>\n",
       "      <td>0.630978</td>\n",
       "    </tr>\n",
       "  </tbody>\n",
       "</table>\n",
       "</div>"
      ],
      "text/plain": [
       "      y_real  y_pred   y_score   TP   TN  FP   FN      Thld       TPR  \\\n",
       "2231       0       0  0.250021  421  396  84  100  0.250021  0.808061   \n",
       "5582       0       0  0.243229  425  392  88   96  0.243229  0.815739   \n",
       "7109       0       0  0.267195  419  397  83  102  0.267195  0.804223   \n",
       "1112       1       0  0.251239  420  396  84  101  0.251239  0.806142   \n",
       "2527       0       0  0.249259  421  395  85  100  0.249259  0.808061   \n",
       "\n",
       "           FPR  TPR - FPR  \n",
       "2231  0.175000   0.633061  \n",
       "5582  0.183333   0.632406  \n",
       "7109  0.172917   0.631306  \n",
       "1112  0.175000   0.631142  \n",
       "2527  0.177083   0.630978  "
      ]
     },
     "execution_count": 20,
     "metadata": {},
     "output_type": "execute_result"
    }
   ],
   "source": [
    "optimal = adviser_sales.copy()\n",
    "optimal['TPR - FPR'] = optimal['TPR'] - optimal['FPR']\n",
    "optimal.sort_values('TPR - FPR', ascending=False).head()"
   ]
  },
  {
   "cell_type": "markdown",
   "metadata": {},
   "source": [
    "Above the five best scores are shown. It can be notices that the `Threshold` of _0.25018_ give us the highest benefits with the minimum cost.\n",
    "This `Threshold` is used in our model to predict the advisers with better chance to make a sale."
   ]
  },
  {
   "cell_type": "code",
   "execution_count": 21,
   "metadata": {},
   "outputs": [
    {
     "data": {
      "text/plain": [
       "0.2500212123098636"
      ]
     },
     "execution_count": 21,
     "metadata": {},
     "output_type": "execute_result"
    }
   ],
   "source": [
    "##OPTIMAL PREDICTION THRESHOLD\n",
    "th_pred = optimal.loc[2231,'Thld']\n",
    "th_pred"
   ]
  },
  {
   "cell_type": "code",
   "execution_count": 22,
   "metadata": {},
   "outputs": [],
   "source": [
    "##PIPELINE ASSEMBLER\n",
    "sales_reg = Pipeline(\n",
    "    [\n",
    "        ('rare_label_encoder', RareLabelEncoder(threshold=0.03, variables=DISCRETE_VARS)),\n",
    "         \n",
    "        ('log_transform', LogaritmicTransformation(variables=CONTINUOUS_VARS)),\n",
    "         \n",
    "        ('scaler', StandardScaler()),\n",
    "        \n",
    "        ('reg_model', Ridge(alpha=0.05, random_state=0))\n",
    "    ]\n",
    ")"
   ]
  },
  {
   "cell_type": "code",
   "execution_count": 23,
   "metadata": {},
   "outputs": [],
   "source": [
    "##SPLIT DATA INTO TRAIN & TEST\n",
    "X_train, X_test, yr_train, yr_test = train_test_split(X, yreg, test_size=0.1, random_state=5)"
   ]
  },
  {
   "cell_type": "code",
   "execution_count": 24,
   "metadata": {},
   "outputs": [],
   "source": [
    "y_log_train = np.log1p(yr_train)\n",
    "y_log_test = np.log1p(yr_test)"
   ]
  },
  {
   "cell_type": "code",
   "execution_count": 25,
   "metadata": {},
   "outputs": [
    {
     "data": {
      "text/plain": [
       "Pipeline(memory=None,\n",
       "     steps=[('rare_label_encoder', RareLabelEncoder(threshold=0.03,\n",
       "         variables=['no_of_sales_12M_1', 'no_of_sales_12M_10K', 'no_of_funds_sold_12M_1', 'no_of_fund_sales_12M_10K', 'no_of_assetclass_sold_12M_1', 'no_of_assetclass_sales_12M_10K', 'No_of_fund_curr', 'No_of_asset_curr'])), ('log_transf..., fit_intercept=True, max_iter=None,\n",
       "   normalize=False, random_state=0, solver='auto', tol=0.001))])"
      ]
     },
     "execution_count": 25,
     "metadata": {},
     "output_type": "execute_result"
    }
   ],
   "source": [
    "sales_reg.fit(X_train, y_log_train)"
   ]
  },
  {
   "cell_type": "code",
   "execution_count": 26,
   "metadata": {},
   "outputs": [
    {
     "data": {
      "text/plain": [
       "(array([ 1.49855104,  0.68101055, -0.17561669,  0.19374866,  0.78915936,\n",
       "        -0.17155089,  0.40323168, -0.12702488,  0.12869912,  1.55870331]),\n",
       " 5.304209097584312)"
      ]
     },
     "execution_count": 26,
     "metadata": {},
     "output_type": "execute_result"
    }
   ],
   "source": [
    "param_reg = sales_reg.named_steps['reg_model']\n",
    "param_reg.coef_ , param_reg.intercept_"
   ]
  },
  {
   "cell_type": "code",
   "execution_count": 27,
   "metadata": {},
   "outputs": [
    {
     "name": "stdout",
     "output_type": "stream",
     "text": [
      "Predictor: no_of_sales_12M_1, Coefficient = 1.499\n",
      "Predictor: no_of_sales_12M_10K, Coefficient = 0.681\n",
      "Predictor: no_of_funds_sold_12M_1, Coefficient = -0.176\n",
      "Predictor: no_of_fund_sales_12M_10K, Coefficient = 0.194\n",
      "Predictor: no_of_assetclass_sold_12M_1, Coefficient = 0.789\n",
      "Predictor: no_of_assetclass_sales_12M_10K, Coefficient = -0.172\n",
      "Predictor: No_of_fund_curr, Coefficient = 0.403\n",
      "Predictor: No_of_asset_curr, Coefficient = -0.127\n",
      "Predictor: AUM, Coefficient = 0.129\n",
      "Predictor: sales_curr, Coefficient = 1.559\n"
     ]
    }
   ],
   "source": [
    "reg_coef = list(param_reg.coef_)\n",
    "reg_pred = DISCRETE_VARS + CONTINUOUS_VARS\n",
    "for c,p in zip(reg_coef,reg_pred):\n",
    "    print('Predictor: {0}, Coefficient = {1}'.format(p,round(c,3)))"
   ]
  },
  {
   "cell_type": "code",
   "execution_count": 28,
   "metadata": {},
   "outputs": [],
   "source": [
    "def sales_prediction(model_clf,model_reg,X,y_cls,y_reg,thld):\n",
    "    df_pred = pd.DataFrame(index=y_cls.index)\n",
    "    df_pred['yc_real'] = y_cls\n",
    "    df_pred['yc_pred'] = (model_clf.predict_proba(X)[:,1]>thld)*1\n",
    "    df_pred['y_score'] = model_clf.predict_proba(X)[:,1]\n",
    "    df_pred['yr_real'] = y_reg\n",
    "    df_pred.loc[df_pred['yc_pred'] == 0, 'yr_pred'] = 0\n",
    "    df_pred.loc[df_pred['yr_pred'].isnull(), 'yr_pred'] = model_reg.predict(X.loc[df_pred['yr_pred'].isnull(), :])\n",
    "    \n",
    "    return df_pred"
   ]
  },
  {
   "cell_type": "code",
   "execution_count": 29,
   "metadata": {},
   "outputs": [
    {
     "data": {
      "text/html": [
       "<div>\n",
       "<style scoped>\n",
       "    .dataframe tbody tr th:only-of-type {\n",
       "        vertical-align: middle;\n",
       "    }\n",
       "\n",
       "    .dataframe tbody tr th {\n",
       "        vertical-align: top;\n",
       "    }\n",
       "\n",
       "    .dataframe thead th {\n",
       "        text-align: right;\n",
       "    }\n",
       "</style>\n",
       "<table border=\"1\" class=\"dataframe\">\n",
       "  <thead>\n",
       "    <tr style=\"text-align: right;\">\n",
       "      <th></th>\n",
       "      <th>yc_real</th>\n",
       "      <th>yc_pred</th>\n",
       "      <th>y_score</th>\n",
       "      <th>yr_real</th>\n",
       "      <th>yr_pred</th>\n",
       "    </tr>\n",
       "  </thead>\n",
       "  <tbody>\n",
       "    <tr>\n",
       "      <th>9668</th>\n",
       "      <td>0</td>\n",
       "      <td>1</td>\n",
       "      <td>0.902074</td>\n",
       "      <td>0.000000</td>\n",
       "      <td>7.759628</td>\n",
       "    </tr>\n",
       "    <tr>\n",
       "      <th>442</th>\n",
       "      <td>1</td>\n",
       "      <td>1</td>\n",
       "      <td>0.981503</td>\n",
       "      <td>8.308970</td>\n",
       "      <td>9.382702</td>\n",
       "    </tr>\n",
       "    <tr>\n",
       "      <th>4410</th>\n",
       "      <td>1</td>\n",
       "      <td>1</td>\n",
       "      <td>0.963846</td>\n",
       "      <td>12.131933</td>\n",
       "      <td>10.155033</td>\n",
       "    </tr>\n",
       "    <tr>\n",
       "      <th>2289</th>\n",
       "      <td>0</td>\n",
       "      <td>0</td>\n",
       "      <td>0.230744</td>\n",
       "      <td>0.000000</td>\n",
       "      <td>0.000000</td>\n",
       "    </tr>\n",
       "    <tr>\n",
       "      <th>2174</th>\n",
       "      <td>0</td>\n",
       "      <td>0</td>\n",
       "      <td>0.220453</td>\n",
       "      <td>0.000000</td>\n",
       "      <td>0.000000</td>\n",
       "    </tr>\n",
       "  </tbody>\n",
       "</table>\n",
       "</div>"
      ],
      "text/plain": [
       "      yc_real  yc_pred   y_score    yr_real    yr_pred\n",
       "9668        0        1  0.902074   0.000000   7.759628\n",
       "442         1        1  0.981503   8.308970   9.382702\n",
       "4410        1        1  0.963846  12.131933  10.155033\n",
       "2289        0        0  0.230744   0.000000   0.000000\n",
       "2174        0        0  0.220453   0.000000   0.000000"
      ]
     },
     "execution_count": 29,
     "metadata": {},
     "output_type": "execute_result"
    }
   ],
   "source": [
    "sales = sales_prediction(sales_clf,sales_reg,X_test,yc_test,y_log_test,th_pred)\n",
    "sales.head()"
   ]
  },
  {
   "cell_type": "code",
   "execution_count": 30,
   "metadata": {
    "scrolled": false
   },
   "outputs": [
    {
     "name": "stdout",
     "output_type": "stream",
     "text": [
      "MSE:15.579918767569797\n",
      "RMSE:3.947140581176429\n"
     ]
    },
    {
     "data": {
      "image/png": "[encoded data removed]",
      "text/plain": [
       "<Figure size 720x360 with 1 Axes>"
      ]
     },
     "metadata": {
      "needs_background": "light"
     },
     "output_type": "display_data"
    }
   ],
   "source": [
    "print('MSE:{}'.format(mean_squared_error(y_log_test,sales['yr_pred'])))\n",
    "print('RMSE:{}'.format(np.sqrt(mean_squared_error(y_log_test,sales['yr_pred']))))\n",
    "model_r2 = 'R2 Score:'+str(round(r2_score(y_log_test,sales['yr_pred']),5))\n",
    "fig, ax = plt.subplots(1,1,figsize=(10,5))\n",
    "ax.scatter(sales['yr_pred'],y_log_test,alpha=0.7)\n",
    "ax.set_xlabel('Sales Predictions')\n",
    "ax.set_ylabel('Sales 2019')\n",
    "ax.set_title('Sales Prediction vs Real')\n",
    "ax.legend([model_r2],loc='lower right')\n",
    "plt.show();"
   ]
  },
  {
   "cell_type": "code",
   "execution_count": 31,
   "metadata": {},
   "outputs": [
    {
     "data": {
      "text/plain": [
       "(5.458276868356198, 4.482403279699548)"
      ]
     },
     "execution_count": 31,
     "metadata": {},
     "output_type": "execute_result"
    }
   ],
   "source": [
    "sales['yr_real'].mean(),sales['yr_pred'].mean()"
   ]
  },
  {
   "cell_type": "markdown",
   "metadata": {},
   "source": [
    "## LIFT CHART"
   ]
  },
  {
   "cell_type": "code",
   "execution_count": 32,
   "metadata": {},
   "outputs": [
    {
     "data": {
      "text/plain": [
       "0.29942418426103645"
      ]
     },
     "execution_count": 32,
     "metadata": {},
     "output_type": "execute_result"
    }
   ],
   "source": [
    "sales.sample(frac=0.3)['yc_real'].sum()/sales['yc_real'].sum()"
   ]
  },
  {
   "cell_type": "code",
   "execution_count": 33,
   "metadata": {},
   "outputs": [
    {
     "data": {
      "text/html": [
       "<div>\n",
       "<style scoped>\n",
       "    .dataframe tbody tr th:only-of-type {\n",
       "        vertical-align: middle;\n",
       "    }\n",
       "\n",
       "    .dataframe tbody tr th {\n",
       "        vertical-align: top;\n",
       "    }\n",
       "\n",
       "    .dataframe thead th {\n",
       "        text-align: right;\n",
       "    }\n",
       "</style>\n",
       "<table border=\"1\" class=\"dataframe\">\n",
       "  <thead>\n",
       "    <tr style=\"text-align: right;\">\n",
       "      <th></th>\n",
       "      <th>yc_real</th>\n",
       "      <th>y_score</th>\n",
       "      <th>Total %</th>\n",
       "      <th>Target %</th>\n",
       "      <th>Baseline</th>\n",
       "      <th>Ideal Model</th>\n",
       "    </tr>\n",
       "  </thead>\n",
       "  <tbody>\n",
       "    <tr>\n",
       "      <th>7690</th>\n",
       "      <td>1</td>\n",
       "      <td>1.0</td>\n",
       "      <td>0.000999</td>\n",
       "      <td>0.001919</td>\n",
       "      <td>0.000999</td>\n",
       "      <td>0.001919</td>\n",
       "    </tr>\n",
       "    <tr>\n",
       "      <th>8371</th>\n",
       "      <td>1</td>\n",
       "      <td>1.0</td>\n",
       "      <td>0.001998</td>\n",
       "      <td>0.003839</td>\n",
       "      <td>0.001998</td>\n",
       "      <td>0.003839</td>\n",
       "    </tr>\n",
       "    <tr>\n",
       "      <th>7317</th>\n",
       "      <td>1</td>\n",
       "      <td>1.0</td>\n",
       "      <td>0.002997</td>\n",
       "      <td>0.005758</td>\n",
       "      <td>0.002997</td>\n",
       "      <td>0.005758</td>\n",
       "    </tr>\n",
       "    <tr>\n",
       "      <th>8123</th>\n",
       "      <td>1</td>\n",
       "      <td>1.0</td>\n",
       "      <td>0.003996</td>\n",
       "      <td>0.007678</td>\n",
       "      <td>0.003996</td>\n",
       "      <td>0.007678</td>\n",
       "    </tr>\n",
       "    <tr>\n",
       "      <th>9952</th>\n",
       "      <td>1</td>\n",
       "      <td>1.0</td>\n",
       "      <td>0.004995</td>\n",
       "      <td>0.009597</td>\n",
       "      <td>0.004995</td>\n",
       "      <td>0.009597</td>\n",
       "    </tr>\n",
       "  </tbody>\n",
       "</table>\n",
       "</div>"
      ],
      "text/plain": [
       "      yc_real  y_score   Total %  Target %  Baseline  Ideal Model\n",
       "7690        1      1.0  0.000999  0.001919  0.000999     0.001919\n",
       "8371        1      1.0  0.001998  0.003839  0.001998     0.003839\n",
       "7317        1      1.0  0.002997  0.005758  0.002997     0.005758\n",
       "8123        1      1.0  0.003996  0.007678  0.003996     0.007678\n",
       "9952        1      1.0  0.004995  0.009597  0.004995     0.009597"
      ]
     },
     "execution_count": 33,
     "metadata": {},
     "output_type": "execute_result"
    }
   ],
   "source": [
    "lift = sales[['yc_real','y_score']]\n",
    "lift['cte'] = 1\n",
    "lift.sort_values('y_score', ascending=False, inplace=True)\n",
    "lift['Total %'] = lift['cte'].cumsum()/lift['cte'].sum()\n",
    "lift['Target %'] = lift['yc_real'].cumsum()/lift['yc_real'].sum()\n",
    "lift['Baseline'] = lift['Total %']\n",
    "lift['y_sort'] = lift['yc_real'].sort_values(ascending=False).values\n",
    "lift['Ideal Model'] = lift['y_sort'].cumsum()/lift['y_sort'].sum()\n",
    "lift.drop(['cte','y_sort'],axis=1,inplace=True)\n",
    "lift.head()"
   ]
  },
  {
   "cell_type": "code",
   "execution_count": 34,
   "metadata": {},
   "outputs": [
    {
     "data": {
      "image/png": "[encoded data removed]",
      "text/plain": [
       "<Figure size 576x576 with 1 Axes>"
      ]
     },
     "metadata": {
      "needs_background": "light"
     },
     "output_type": "display_data"
    }
   ],
   "source": [
    "fig, ax = plt.subplots(1,1,figsize=(8,8))\n",
    "lift.plot(x='Total %',y='Baseline',ax=ax, grid=True, legend=True, style='k--')\n",
    "lift.plot(x='Total %',y='Ideal Model',ax=ax, grid=True, legend=True, style='r')\n",
    "lift.plot(x='Total %',y='Target %', ax=ax, grid=True, legend=False)\n",
    "ax.set_xlabel('Total Advisers Percentage',fontsize=16)\n",
    "ax.set_ylabel('Positive Responders Percentage',fontsize=16)\n",
    "ax.set_title('Lift Chart - Sales Predictions', fontsize=16);"
   ]
  },
  {
   "cell_type": "code",
   "execution_count": 35,
   "metadata": {},
   "outputs": [],
   "source": [
    "def up_lift(df,target,frac):\n",
    "    find = df.head(round(len(df)*frac))[target].sum()/df[target].sum()\n",
    "    lift = find/frac\n",
    "    return find,lift"
   ]
  },
  {
   "cell_type": "code",
   "execution_count": 36,
   "metadata": {},
   "outputs": [
    {
     "name": "stdout",
     "output_type": "stream",
     "text": [
      "Base Rate: 0.5204795204795205\n",
      "Target Mean: 0.5204795204795205\n"
     ]
    }
   ],
   "source": [
    "##BASE RATE:\n",
    "BR = lift['yc_real'].sum()/len(lift)\n",
    "print('Base Rate:',BR)\n",
    "print('Target Mean:',lift['yc_real'].mean())"
   ]
  },
  {
   "cell_type": "code",
   "execution_count": 37,
   "metadata": {
    "scrolled": true
   },
   "outputs": [
    {
     "name": "stdout",
     "output_type": "stream",
     "text": [
      "Gain:19.0[%] , Model-Lift:1.9\n"
     ]
    }
   ],
   "source": [
    "gain, model_lift = up_lift(lift,'yc_real',0.1)\n",
    "print('Gain:{0}[%] , Model-Lift:{1}'.format(round(gain*100,2),round(model_lift,2)))"
   ]
  },
  {
   "cell_type": "code",
   "execution_count": 38,
   "metadata": {},
   "outputs": [],
   "source": [
    "rango = np.linspace(0.1,1.0,100)\n",
    "lift_look = {}\n",
    "for f in rango:\n",
    "    fr = float(round(f,2))\n",
    "    g, lf = up_lift(lift,'yc_real',fr)\n",
    "    lift_look[fr] = (g,lf)"
   ]
  },
  {
   "cell_type": "code",
   "execution_count": 39,
   "metadata": {
    "scrolled": true
   },
   "outputs": [
    {
     "name": "stdout",
     "output_type": "stream",
     "text": [
      "Gain:0.19001919385796545 Lift:1.9001919385796544\n",
      "Gain:0.3646833013435701 Lift:1.8234165067178503\n",
      "Gain:0.5316698656429942 Lift:1.7722328854766476\n",
      "Gain:0.6813819577735125 Lift:1.7034548944337813\n",
      "Gain:0.800383877159309 Lift:1.600767754318618\n",
      "Gain:0.8406909788867563 Lift:1.401151631477927\n",
      "Gain:0.8694817658349329 Lift:1.2421168083356184\n",
      "Gain:0.9097888675623801 Lift:1.137236084452975\n",
      "Gain:0.9712092130518234 Lift:1.0791213478353594\n",
      "Gain:1.0 Lift:1.0\n"
     ]
    }
   ],
   "source": [
    "fractions = [0.1,0.2,0.3,0.4,0.5,0.6,0.7,0.8,0.9,1.0]\n",
    "for f in fractions:\n",
    "    print('Gain:{0} Lift:{1}'.format(lift_look[f][0],lift_look[f][1]))\n",
    "    \n",
    "# lift_look[0.85]"
   ]
  },
  {
   "cell_type": "code",
   "execution_count": 40,
   "metadata": {},
   "outputs": [],
   "source": [
    "lift_tab = lift.copy()"
   ]
  },
  {
   "cell_type": "code",
   "execution_count": 41,
   "metadata": {},
   "outputs": [],
   "source": [
    "lift_tab['sales 2019'] = np.expm1(sales['yr_real'])\n",
    "lift_tab['sales pred'] = np.expm1(sales['yr_pred'])\n",
    "lift_tab['deciles'] = pd.qcut(lift_tab['y_score'], 10, labels=False)\n",
    "lift_tab['intervals'] = pd.qcut(lift_tab['y_score'], 10)\n",
    "lift_tab['contact_id'] = lift_tab.index.map(adviser_lookup)"
   ]
  },
  {
   "cell_type": "code",
   "execution_count": 71,
   "metadata": {},
   "outputs": [
    {
     "data": {
      "text/html": [
       "<div>\n",
       "<style scoped>\n",
       "    .dataframe tbody tr th:only-of-type {\n",
       "        vertical-align: middle;\n",
       "    }\n",
       "\n",
       "    .dataframe tbody tr th {\n",
       "        vertical-align: top;\n",
       "    }\n",
       "\n",
       "    .dataframe thead th {\n",
       "        text-align: right;\n",
       "    }\n",
       "</style>\n",
       "<table border=\"1\" class=\"dataframe\">\n",
       "  <thead>\n",
       "    <tr style=\"text-align: right;\">\n",
       "      <th></th>\n",
       "      <th>yc_real</th>\n",
       "      <th>y_score</th>\n",
       "      <th>Total %</th>\n",
       "      <th>Target %</th>\n",
       "      <th>Baseline</th>\n",
       "      <th>Ideal Model</th>\n",
       "      <th>sales 2019</th>\n",
       "      <th>sales pred</th>\n",
       "      <th>deciles</th>\n",
       "      <th>intervals</th>\n",
       "      <th>contact_id</th>\n",
       "    </tr>\n",
       "  </thead>\n",
       "  <tbody>\n",
       "    <tr>\n",
       "      <th>7690</th>\n",
       "      <td>1</td>\n",
       "      <td>1.0</td>\n",
       "      <td>0.000999</td>\n",
       "      <td>0.001919</td>\n",
       "      <td>0.000999</td>\n",
       "      <td>0.001919</td>\n",
       "      <td>3.575736e+06</td>\n",
       "      <td>7.500616e+06</td>\n",
       "      <td>9</td>\n",
       "      <td>(0.9752, 1.0]</td>\n",
       "      <td>85102151194243996323</td>\n",
       "    </tr>\n",
       "    <tr>\n",
       "      <th>8371</th>\n",
       "      <td>1</td>\n",
       "      <td>1.0</td>\n",
       "      <td>0.001998</td>\n",
       "      <td>0.003839</td>\n",
       "      <td>0.001998</td>\n",
       "      <td>0.003839</td>\n",
       "      <td>1.083940e+07</td>\n",
       "      <td>7.644587e+06</td>\n",
       "      <td>9</td>\n",
       "      <td>(0.9752, 1.0]</td>\n",
       "      <td>0225117</td>\n",
       "    </tr>\n",
       "    <tr>\n",
       "      <th>7317</th>\n",
       "      <td>1</td>\n",
       "      <td>1.0</td>\n",
       "      <td>0.002997</td>\n",
       "      <td>0.005758</td>\n",
       "      <td>0.002997</td>\n",
       "      <td>0.005758</td>\n",
       "      <td>4.867638e+07</td>\n",
       "      <td>1.067456e+07</td>\n",
       "      <td>9</td>\n",
       "      <td>(0.9752, 1.0]</td>\n",
       "      <td>0268477</td>\n",
       "    </tr>\n",
       "    <tr>\n",
       "      <th>8123</th>\n",
       "      <td>1</td>\n",
       "      <td>1.0</td>\n",
       "      <td>0.003996</td>\n",
       "      <td>0.007678</td>\n",
       "      <td>0.003996</td>\n",
       "      <td>0.007678</td>\n",
       "      <td>9.396985e+06</td>\n",
       "      <td>5.787878e+06</td>\n",
       "      <td>9</td>\n",
       "      <td>(0.9752, 1.0]</td>\n",
       "      <td>4435333</td>\n",
       "    </tr>\n",
       "    <tr>\n",
       "      <th>9952</th>\n",
       "      <td>1</td>\n",
       "      <td>1.0</td>\n",
       "      <td>0.004995</td>\n",
       "      <td>0.009597</td>\n",
       "      <td>0.004995</td>\n",
       "      <td>0.009597</td>\n",
       "      <td>3.136082e+07</td>\n",
       "      <td>6.882202e+06</td>\n",
       "      <td>9</td>\n",
       "      <td>(0.9752, 1.0]</td>\n",
       "      <td>85201122073118152417</td>\n",
       "    </tr>\n",
       "  </tbody>\n",
       "</table>\n",
       "</div>"
      ],
      "text/plain": [
       "      yc_real  y_score   Total %  Target %  Baseline  Ideal Model  \\\n",
       "7690        1      1.0  0.000999  0.001919  0.000999     0.001919   \n",
       "8371        1      1.0  0.001998  0.003839  0.001998     0.003839   \n",
       "7317        1      1.0  0.002997  0.005758  0.002997     0.005758   \n",
       "8123        1      1.0  0.003996  0.007678  0.003996     0.007678   \n",
       "9952        1      1.0  0.004995  0.009597  0.004995     0.009597   \n",
       "\n",
       "        sales 2019    sales pred  deciles      intervals            contact_id  \n",
       "7690  3.575736e+06  7.500616e+06        9  (0.9752, 1.0]  85102151194243996323  \n",
       "8371  1.083940e+07  7.644587e+06        9  (0.9752, 1.0]               0225117  \n",
       "7317  4.867638e+07  1.067456e+07        9  (0.9752, 1.0]               0268477  \n",
       "8123  9.396985e+06  5.787878e+06        9  (0.9752, 1.0]               4435333  \n",
       "9952  3.136082e+07  6.882202e+06        9  (0.9752, 1.0]  85201122073118152417  "
      ]
     },
     "execution_count": 71,
     "metadata": {},
     "output_type": "execute_result"
    }
   ],
   "source": [
    "lift_tab.head()"
   ]
  },
  {
   "cell_type": "code",
   "execution_count": 43,
   "metadata": {
    "scrolled": false
   },
   "outputs": [
    {
     "data": {
      "text/html": [
       "<div>\n",
       "<style scoped>\n",
       "    .dataframe tbody tr th:only-of-type {\n",
       "        vertical-align: middle;\n",
       "    }\n",
       "\n",
       "    .dataframe tbody tr th {\n",
       "        vertical-align: top;\n",
       "    }\n",
       "\n",
       "    .dataframe thead th {\n",
       "        text-align: right;\n",
       "    }\n",
       "</style>\n",
       "<table border=\"1\" class=\"dataframe\">\n",
       "  <thead>\n",
       "    <tr style=\"text-align: right;\">\n",
       "      <th></th>\n",
       "      <th>deciles</th>\n",
       "      <th>sales 2019</th>\n",
       "      <th>sales pred</th>\n",
       "      <th>Target %</th>\n",
       "      <th>yc_real</th>\n",
       "      <th>contact_id</th>\n",
       "      <th>response %</th>\n",
       "    </tr>\n",
       "  </thead>\n",
       "  <tbody>\n",
       "    <tr>\n",
       "      <th>0</th>\n",
       "      <td>10</td>\n",
       "      <td>5.451038e+03</td>\n",
       "      <td>0.000000e+00</td>\n",
       "      <td>99.470250</td>\n",
       "      <td>15</td>\n",
       "      <td>101</td>\n",
       "      <td>2.879079</td>\n",
       "    </tr>\n",
       "    <tr>\n",
       "      <th>1</th>\n",
       "      <td>9</td>\n",
       "      <td>1.250336e+05</td>\n",
       "      <td>0.000000e+00</td>\n",
       "      <td>103.328215</td>\n",
       "      <td>36</td>\n",
       "      <td>109</td>\n",
       "      <td>6.909789</td>\n",
       "    </tr>\n",
       "    <tr>\n",
       "      <th>2</th>\n",
       "      <td>8</td>\n",
       "      <td>5.407847e+03</td>\n",
       "      <td>0.000000e+00</td>\n",
       "      <td>84.245681</td>\n",
       "      <td>17</td>\n",
       "      <td>95</td>\n",
       "      <td>3.262956</td>\n",
       "    </tr>\n",
       "    <tr>\n",
       "      <th>3</th>\n",
       "      <td>7</td>\n",
       "      <td>1.859487e+04</td>\n",
       "      <td>0.000000e+00</td>\n",
       "      <td>84.641075</td>\n",
       "      <td>17</td>\n",
       "      <td>99</td>\n",
       "      <td>3.262956</td>\n",
       "    </tr>\n",
       "    <tr>\n",
       "      <th>4</th>\n",
       "      <td>6</td>\n",
       "      <td>3.208304e+04</td>\n",
       "      <td>1.183073e+01</td>\n",
       "      <td>79.846449</td>\n",
       "      <td>19</td>\n",
       "      <td>97</td>\n",
       "      <td>3.646833</td>\n",
       "    </tr>\n",
       "    <tr>\n",
       "      <th>5</th>\n",
       "      <td>5</td>\n",
       "      <td>1.290220e+05</td>\n",
       "      <td>2.315328e+02</td>\n",
       "      <td>74.397313</td>\n",
       "      <td>62</td>\n",
       "      <td>100</td>\n",
       "      <td>11.900192</td>\n",
       "    </tr>\n",
       "    <tr>\n",
       "      <th>6</th>\n",
       "      <td>4</td>\n",
       "      <td>8.404567e+04</td>\n",
       "      <td>4.731016e+03</td>\n",
       "      <td>60.642994</td>\n",
       "      <td>78</td>\n",
       "      <td>100</td>\n",
       "      <td>14.971209</td>\n",
       "    </tr>\n",
       "    <tr>\n",
       "      <th>7</th>\n",
       "      <td>3</td>\n",
       "      <td>2.037321e+05</td>\n",
       "      <td>2.655563e+04</td>\n",
       "      <td>44.859885</td>\n",
       "      <td>87</td>\n",
       "      <td>100</td>\n",
       "      <td>16.698656</td>\n",
       "    </tr>\n",
       "    <tr>\n",
       "      <th>8</th>\n",
       "      <td>2</td>\n",
       "      <td>4.559588e+05</td>\n",
       "      <td>1.087589e+05</td>\n",
       "      <td>27.994242</td>\n",
       "      <td>91</td>\n",
       "      <td>100</td>\n",
       "      <td>17.466411</td>\n",
       "    </tr>\n",
       "    <tr>\n",
       "      <th>9</th>\n",
       "      <td>1</td>\n",
       "      <td>1.875234e+06</td>\n",
       "      <td>1.846627e+06</td>\n",
       "      <td>9.629559</td>\n",
       "      <td>99</td>\n",
       "      <td>100</td>\n",
       "      <td>19.001919</td>\n",
       "    </tr>\n",
       "  </tbody>\n",
       "</table>\n",
       "</div>"
      ],
      "text/plain": [
       "   deciles    sales 2019    sales pred    Target %  yc_real  contact_id  \\\n",
       "0       10  5.451038e+03  0.000000e+00   99.470250       15         101   \n",
       "1        9  1.250336e+05  0.000000e+00  103.328215       36         109   \n",
       "2        8  5.407847e+03  0.000000e+00   84.245681       17          95   \n",
       "3        7  1.859487e+04  0.000000e+00   84.641075       17          99   \n",
       "4        6  3.208304e+04  1.183073e+01   79.846449       19          97   \n",
       "5        5  1.290220e+05  2.315328e+02   74.397313       62         100   \n",
       "6        4  8.404567e+04  4.731016e+03   60.642994       78         100   \n",
       "7        3  2.037321e+05  2.655563e+04   44.859885       87         100   \n",
       "8        2  4.559588e+05  1.087589e+05   27.994242       91         100   \n",
       "9        1  1.875234e+06  1.846627e+06    9.629559       99         100   \n",
       "\n",
       "   response %  \n",
       "0    2.879079  \n",
       "1    6.909789  \n",
       "2    3.262956  \n",
       "3    3.262956  \n",
       "4    3.646833  \n",
       "5   11.900192  \n",
       "6   14.971209  \n",
       "7   16.698656  \n",
       "8   17.466411  \n",
       "9   19.001919  "
      ]
     },
     "execution_count": 43,
     "metadata": {},
     "output_type": "execute_result"
    }
   ],
   "source": [
    "sales_char = (lift_tab.groupby('deciles')\n",
    "              .agg({'sales 2019':'mean','sales pred':'mean','Target %':'sum','yc_real':'sum','contact_id':'count'})\n",
    "              #.droplevel(0, axis=1)\n",
    "              .reset_index()\n",
    "             )\n",
    "sales_char['deciles'] = sales_char['deciles'].apply(lambda x: (x-10)*-1)\n",
    "sales_char['response %'] = (sales_char['yc_real']/sales_char['yc_real'].sum())*100\n",
    "sales_char"
   ]
  },
  {
   "cell_type": "code",
   "execution_count": 44,
   "metadata": {},
   "outputs": [
    {
     "data": {
      "text/plain": [
       "521"
      ]
     },
     "execution_count": 44,
     "metadata": {},
     "output_type": "execute_result"
    }
   ],
   "source": [
    "sales_char['yc_real'].sum()"
   ]
  },
  {
   "cell_type": "code",
   "execution_count": 45,
   "metadata": {},
   "outputs": [
    {
     "data": {
      "image/png": "[encoded data removed]",
      "text/plain": [
       "<Figure size 576x360 with 1 Axes>"
      ]
     },
     "metadata": {
      "needs_background": "light"
     },
     "output_type": "display_data"
    }
   ],
   "source": [
    "fig, ax = plt.subplots(figsize=(8,5))\n",
    "sales_char.plot(kind='bar', x='deciles', y='sales 2019', ax=ax, legend=None)\n",
    "ax.set_xlabel(\"Deciles\", fontsize=16)\n",
    "ax.set_ylabel(\"Average Predicted Sales\", fontsize=16)\n",
    "ax.set_title(\"Average Predicted Sales by Decile\", fontsize=16)\n",
    "ax.spines['top'].set_visible(False);\n",
    "ax.spines['right'].set_visible(False);"
   ]
  },
  {
   "cell_type": "markdown",
   "metadata": {},
   "source": [
    "## ADDING NEW FUND PREDICTION"
   ]
  },
  {
   "cell_type": "code",
   "execution_count": 50,
   "metadata": {},
   "outputs": [],
   "source": [
    "##SPLIT DATA INTO TRAIN & TEST\n",
    "X_train, X_test, yf_train, yf_test = train_test_split(X, ycls, test_size=0.1, random_state=5)"
   ]
  },
  {
   "cell_type": "code",
   "execution_count": 51,
   "metadata": {},
   "outputs": [],
   "source": [
    "##PIPELINE ASSEMBLER\n",
    "fund_clf = Pipeline(\n",
    "    [\n",
    "        ('rare_label_encoder', RareLabelEncoder(threshold=0.03, variables=DISCRETE_VARS)),\n",
    "         \n",
    "        ('scaler', StandardScaler()),\n",
    "        \n",
    "        ('pca', PCA(n_components=0.95, svd_solver='full')),\n",
    "        \n",
    "        ('class_model', RandomForestClassifier(n_estimators=100, max_depth=5, random_state=0, class_weight='balanced'))\n",
    "\n",
    "    ]\n",
    ")"
   ]
  },
  {
   "cell_type": "code",
   "execution_count": 52,
   "metadata": {},
   "outputs": [
    {
     "data": {
      "text/plain": [
       "Pipeline(memory=None,\n",
       "     steps=[('rare_label_encoder', RareLabelEncoder(threshold=0.03,\n",
       "         variables=['no_of_sales_12M_1', 'no_of_sales_12M_10K', 'no_of_funds_sold_12M_1', 'no_of_fund_sales_12M_10K', 'no_of_assetclass_sold_12M_1', 'no_of_assetclass_sales_12M_10K', 'No_of_fund_curr', 'No_of_asset_curr'])), ('scaler', S...mators=100, n_jobs=None, oob_score=False, random_state=0,\n",
       "            verbose=0, warm_start=False))])"
      ]
     },
     "execution_count": 52,
     "metadata": {},
     "output_type": "execute_result"
    }
   ],
   "source": [
    "fund_clf.fit(X_train,yf_train)"
   ]
  },
  {
   "cell_type": "code",
   "execution_count": 53,
   "metadata": {},
   "outputs": [],
   "source": [
    "new_fund = pd.DataFrame(index=yf_test.index)\n",
    "new_fund['y_real'] = yf_test\n",
    "new_fund['y_pred'] = fund_clf.predict(X_test)\n",
    "new_fund['y_score'] = fund_clf.predict_proba(X_test)[:,1]"
   ]
  },
  {
   "cell_type": "code",
   "execution_count": 54,
   "metadata": {},
   "outputs": [
    {
     "name": "stdout",
     "output_type": "stream",
     "text": [
      "ROC-AUC:0.7165061613337474\n",
      "Classification Report:\n",
      "              precision    recall  f1-score   support\n",
      "\n",
      "           0       0.88      0.59      0.70       740\n",
      "           1       0.40      0.77      0.52       261\n",
      "\n",
      "   micro avg       0.64      0.64      0.64      1001\n",
      "   macro avg       0.64      0.68      0.61      1001\n",
      "weighted avg       0.75      0.64      0.66      1001\n",
      "\n"
     ]
    }
   ],
   "source": [
    "##EVALUATION\n",
    "print('ROC-AUC:{}'.format(roc_auc_score(yf_test,new_fund['y_score'])))\n",
    "print('Classification Report:')\n",
    "print(classification_report(yf_test,new_fund['y_pred']))"
   ]
  },
  {
   "cell_type": "markdown",
   "metadata": {},
   "source": [
    "## Receiver-Operating-Characteristic Curve"
   ]
  },
  {
   "cell_type": "code",
   "execution_count": 55,
   "metadata": {},
   "outputs": [
    {
     "name": "stdout",
     "output_type": "stream",
     "text": [
      "TN:436 FP:304 N:740\n",
      "TP:200 FN:61 P:261\n"
     ]
    },
    {
     "data": {
      "text/plain": [
       "array([[436, 304],\n",
       "       [ 61, 200]], dtype=int64)"
      ]
     },
     "execution_count": 55,
     "metadata": {},
     "output_type": "execute_result"
    }
   ],
   "source": [
    "tn,fp,fn,tp = confusion_matrix(new_fund['y_real'],new_fund['y_pred']).ravel()\n",
    "print('TN:{0} FP:{1} N:{2}'.format(tn,fp,(tn+fp)))\n",
    "print('TP:{0} FN:{1} P:{2}'.format(tp,fn,(tp+fn)))\n",
    "confusion_matrix(new_fund['y_real'],new_fund['y_pred'])"
   ]
  },
  {
   "cell_type": "code",
   "execution_count": 56,
   "metadata": {},
   "outputs": [
    {
     "data": {
      "text/html": [
       "<div>\n",
       "<style scoped>\n",
       "    .dataframe tbody tr th:only-of-type {\n",
       "        vertical-align: middle;\n",
       "    }\n",
       "\n",
       "    .dataframe tbody tr th {\n",
       "        vertical-align: top;\n",
       "    }\n",
       "\n",
       "    .dataframe thead th {\n",
       "        text-align: right;\n",
       "    }\n",
       "</style>\n",
       "<table border=\"1\" class=\"dataframe\">\n",
       "  <thead>\n",
       "    <tr style=\"text-align: right;\">\n",
       "      <th></th>\n",
       "      <th>y_real</th>\n",
       "      <th>y_pred</th>\n",
       "      <th>y_score</th>\n",
       "      <th>TP</th>\n",
       "      <th>TN</th>\n",
       "      <th>FP</th>\n",
       "      <th>FN</th>\n",
       "      <th>Thld</th>\n",
       "    </tr>\n",
       "  </thead>\n",
       "  <tbody>\n",
       "    <tr>\n",
       "      <th>9668</th>\n",
       "      <td>0</td>\n",
       "      <td>1</td>\n",
       "      <td>0.605113</td>\n",
       "      <td>0</td>\n",
       "      <td>0</td>\n",
       "      <td>0</td>\n",
       "      <td>0</td>\n",
       "      <td>0</td>\n",
       "    </tr>\n",
       "    <tr>\n",
       "      <th>442</th>\n",
       "      <td>1</td>\n",
       "      <td>1</td>\n",
       "      <td>0.698362</td>\n",
       "      <td>0</td>\n",
       "      <td>0</td>\n",
       "      <td>0</td>\n",
       "      <td>0</td>\n",
       "      <td>0</td>\n",
       "    </tr>\n",
       "    <tr>\n",
       "      <th>4410</th>\n",
       "      <td>1</td>\n",
       "      <td>1</td>\n",
       "      <td>0.614072</td>\n",
       "      <td>0</td>\n",
       "      <td>0</td>\n",
       "      <td>0</td>\n",
       "      <td>0</td>\n",
       "      <td>0</td>\n",
       "    </tr>\n",
       "    <tr>\n",
       "      <th>2289</th>\n",
       "      <td>0</td>\n",
       "      <td>0</td>\n",
       "      <td>0.283073</td>\n",
       "      <td>0</td>\n",
       "      <td>0</td>\n",
       "      <td>0</td>\n",
       "      <td>0</td>\n",
       "      <td>0</td>\n",
       "    </tr>\n",
       "    <tr>\n",
       "      <th>2174</th>\n",
       "      <td>0</td>\n",
       "      <td>0</td>\n",
       "      <td>0.339691</td>\n",
       "      <td>0</td>\n",
       "      <td>0</td>\n",
       "      <td>0</td>\n",
       "      <td>0</td>\n",
       "      <td>0</td>\n",
       "    </tr>\n",
       "  </tbody>\n",
       "</table>\n",
       "</div>"
      ],
      "text/plain": [
       "      y_real  y_pred   y_score  TP  TN  FP  FN  Thld\n",
       "9668       0       1  0.605113   0   0   0   0     0\n",
       "442        1       1  0.698362   0   0   0   0     0\n",
       "4410       1       1  0.614072   0   0   0   0     0\n",
       "2289       0       0  0.283073   0   0   0   0     0\n",
       "2174       0       0  0.339691   0   0   0   0     0"
      ]
     },
     "execution_count": 56,
     "metadata": {},
     "output_type": "execute_result"
    }
   ],
   "source": [
    "new_fund['TP'] = 0\n",
    "new_fund['TN'] = 0\n",
    "new_fund['FP'] = 0\n",
    "new_fund['FN'] = 0\n",
    "new_fund['Thld'] = 0\n",
    "\n",
    "Thresholds = new_fund['y_score'].unique()\n",
    "counts = []\n",
    "for th in Thresholds:\n",
    "    memo = {'TP':0,'TN':0,'FP':0,'FN':0,'Thld':0}\n",
    "    new_fund['y_hat'] = (new_fund['y_score'] > th)*1\n",
    "    new_fund['CM'] = new_fund.apply(tptn_fpfn_counts, axis=1)\n",
    "    values = new_fund['CM'].value_counts().to_dict()\n",
    "    memo['TP'] = values.get('TP',0)\n",
    "    memo['TN'] = values.get('TN',0)\n",
    "    memo['FP'] = values.get('FP',0)\n",
    "    memo['FN'] = values.get('FN',0)\n",
    "    memo['Thld'] = th\n",
    "    counts.append(memo)\n",
    "    \n",
    "new_fund.drop(['y_hat','CM'],axis=1, inplace=True)\n",
    "new_fund.head()"
   ]
  },
  {
   "cell_type": "code",
   "execution_count": 57,
   "metadata": {},
   "outputs": [],
   "source": [
    "for c in counts:\n",
    "    for i in new_fund.index:\n",
    "        if new_fund.loc[i,'y_score'] == c['Thld']:\n",
    "            new_fund.loc[i,'TP'] = c['TP']\n",
    "            new_fund.loc[i,'TN'] = c['TN']\n",
    "            new_fund.loc[i,'FP'] = c['FP']\n",
    "            new_fund.loc[i,'FN'] = c['FN']\n",
    "            new_fund.loc[i,'Thld'] = c['Thld']"
   ]
  },
  {
   "cell_type": "code",
   "execution_count": 58,
   "metadata": {},
   "outputs": [],
   "source": [
    "##TRUE-POSITIVE RATE & FALSE-POSITIVE RATE CALCULATION\n",
    "new_fund['TPR'] = new_fund['TP']/(new_fund['TP'] + new_fund['FN'])\n",
    "new_fund['FPR'] = new_fund['FP']/(new_fund['FP'] + new_fund['TN'])"
   ]
  },
  {
   "cell_type": "code",
   "execution_count": 59,
   "metadata": {
    "scrolled": false
   },
   "outputs": [
    {
     "data": {
      "image/png": "[encoded data removed]",
      "text/plain": [
       "<Figure size 1152x576 with 2 Axes>"
      ]
     },
     "metadata": {
      "needs_background": "light"
     },
     "output_type": "display_data"
    }
   ],
   "source": [
    "fpr, tpr, thr = roc_curve(new_fund['y_real'], new_fund['y_score'])\n",
    "roc_fund = pd.DataFrame({'fpr':fpr,'tpr':tpr,'thr':thr})\n",
    "roc_fund['random'] = roc_fund['fpr']\n",
    "fig, ax = plt.subplots(1,2,figsize=(16,8))\n",
    "roc_fund.plot(x='fpr',y='random',ax=ax[0], grid=True, legend=False, style='k--')\n",
    "roc_fund.plot(x='fpr',y='tpr', ax=ax[0], grid=True, legend=False)\n",
    "ax[0].set_xlabel('False Positive Rate')\n",
    "ax[0].set_ylabel('True Positive Rate')\n",
    "ax[0].set_title('ROC-CURVE - Adding New Fund Classifier')\n",
    "\n",
    "ax[1].scatter(new_fund['FPR'],new_fund['TPR'])\n",
    "roc_fund.plot(x='fpr',y='random',ax=ax[1], grid=True, legend=False, style='k--')\n",
    "ax[1].set_xlabel('False Positive Rate')\n",
    "ax[1].set_ylabel('True Positive Rate')\n",
    "ax[1].set_title('ROC-CURVE - Adding New Fund Classifier')\n",
    "plt.show();"
   ]
  },
  {
   "cell_type": "code",
   "execution_count": 60,
   "metadata": {},
   "outputs": [
    {
     "data": {
      "text/html": [
       "<div>\n",
       "<style scoped>\n",
       "    .dataframe tbody tr th:only-of-type {\n",
       "        vertical-align: middle;\n",
       "    }\n",
       "\n",
       "    .dataframe tbody tr th {\n",
       "        vertical-align: top;\n",
       "    }\n",
       "\n",
       "    .dataframe thead th {\n",
       "        text-align: right;\n",
       "    }\n",
       "</style>\n",
       "<table border=\"1\" class=\"dataframe\">\n",
       "  <thead>\n",
       "    <tr style=\"text-align: right;\">\n",
       "      <th></th>\n",
       "      <th>y_real</th>\n",
       "      <th>y_pred</th>\n",
       "      <th>y_score</th>\n",
       "      <th>TP</th>\n",
       "      <th>TN</th>\n",
       "      <th>FP</th>\n",
       "      <th>FN</th>\n",
       "      <th>Thld</th>\n",
       "      <th>TPR</th>\n",
       "      <th>FPR</th>\n",
       "      <th>TPR - FPR</th>\n",
       "    </tr>\n",
       "  </thead>\n",
       "  <tbody>\n",
       "    <tr>\n",
       "      <th>2693</th>\n",
       "      <td>0</td>\n",
       "      <td>1</td>\n",
       "      <td>0.512014</td>\n",
       "      <td>195</td>\n",
       "      <td>467</td>\n",
       "      <td>273</td>\n",
       "      <td>66</td>\n",
       "      <td>0.512014</td>\n",
       "      <td>0.747126</td>\n",
       "      <td>0.368919</td>\n",
       "      <td>0.378208</td>\n",
       "    </tr>\n",
       "    <tr>\n",
       "      <th>42</th>\n",
       "      <td>0</td>\n",
       "      <td>1</td>\n",
       "      <td>0.511902</td>\n",
       "      <td>195</td>\n",
       "      <td>466</td>\n",
       "      <td>274</td>\n",
       "      <td>66</td>\n",
       "      <td>0.511902</td>\n",
       "      <td>0.747126</td>\n",
       "      <td>0.370270</td>\n",
       "      <td>0.376856</td>\n",
       "    </tr>\n",
       "    <tr>\n",
       "      <th>7062</th>\n",
       "      <td>0</td>\n",
       "      <td>1</td>\n",
       "      <td>0.509687</td>\n",
       "      <td>196</td>\n",
       "      <td>463</td>\n",
       "      <td>277</td>\n",
       "      <td>65</td>\n",
       "      <td>0.509687</td>\n",
       "      <td>0.750958</td>\n",
       "      <td>0.374324</td>\n",
       "      <td>0.376634</td>\n",
       "    </tr>\n",
       "    <tr>\n",
       "      <th>9620</th>\n",
       "      <td>0</td>\n",
       "      <td>1</td>\n",
       "      <td>0.511649</td>\n",
       "      <td>195</td>\n",
       "      <td>465</td>\n",
       "      <td>275</td>\n",
       "      <td>66</td>\n",
       "      <td>0.511649</td>\n",
       "      <td>0.747126</td>\n",
       "      <td>0.371622</td>\n",
       "      <td>0.375505</td>\n",
       "    </tr>\n",
       "    <tr>\n",
       "      <th>1360</th>\n",
       "      <td>0</td>\n",
       "      <td>1</td>\n",
       "      <td>0.509061</td>\n",
       "      <td>196</td>\n",
       "      <td>462</td>\n",
       "      <td>278</td>\n",
       "      <td>65</td>\n",
       "      <td>0.509061</td>\n",
       "      <td>0.750958</td>\n",
       "      <td>0.375676</td>\n",
       "      <td>0.375282</td>\n",
       "    </tr>\n",
       "  </tbody>\n",
       "</table>\n",
       "</div>"
      ],
      "text/plain": [
       "      y_real  y_pred   y_score   TP   TN   FP  FN      Thld       TPR  \\\n",
       "2693       0       1  0.512014  195  467  273  66  0.512014  0.747126   \n",
       "42         0       1  0.511902  195  466  274  66  0.511902  0.747126   \n",
       "7062       0       1  0.509687  196  463  277  65  0.509687  0.750958   \n",
       "9620       0       1  0.511649  195  465  275  66  0.511649  0.747126   \n",
       "1360       0       1  0.509061  196  462  278  65  0.509061  0.750958   \n",
       "\n",
       "           FPR  TPR - FPR  \n",
       "2693  0.368919   0.378208  \n",
       "42    0.370270   0.376856  \n",
       "7062  0.374324   0.376634  \n",
       "9620  0.371622   0.375505  \n",
       "1360  0.375676   0.375282  "
      ]
     },
     "execution_count": 60,
     "metadata": {},
     "output_type": "execute_result"
    }
   ],
   "source": [
    "optimal = new_fund.copy()\n",
    "optimal['TPR - FPR'] = optimal['TPR'] - optimal['FPR']\n",
    "optimal.sort_values('TPR - FPR', ascending=False).head()"
   ]
  },
  {
   "cell_type": "code",
   "execution_count": 61,
   "metadata": {},
   "outputs": [
    {
     "data": {
      "text/plain": [
       "0.5172844135759621"
      ]
     },
     "execution_count": 61,
     "metadata": {},
     "output_type": "execute_result"
    }
   ],
   "source": [
    "##OPTIMAL PREDICTION THRESHOLD\n",
    "th_pred = optimal.loc[9675,'Thld']\n",
    "th_pred"
   ]
  },
  {
   "cell_type": "code",
   "execution_count": 62,
   "metadata": {},
   "outputs": [],
   "source": [
    "cal_fund = pd.DataFrame(index=yf_test.index)\n",
    "cal_fund['y_real'] = yf_test\n",
    "cal_fund['y_pred'] = (fund_clf.predict_proba(X_test)[:,1] > th_pred)*1\n",
    "cal_fund['y_score'] = fund_clf.predict_proba(X_test)[:,1]"
   ]
  },
  {
   "cell_type": "code",
   "execution_count": 63,
   "metadata": {},
   "outputs": [
    {
     "name": "stdout",
     "output_type": "stream",
     "text": [
      "TN:475 FP:265 N:740\n",
      "TP:188 FN:73 P:261\n"
     ]
    },
    {
     "data": {
      "text/plain": [
       "array([[475, 265],\n",
       "       [ 73, 188]], dtype=int64)"
      ]
     },
     "execution_count": 63,
     "metadata": {},
     "output_type": "execute_result"
    }
   ],
   "source": [
    "tn,fp,fn,tp = confusion_matrix(cal_fund['y_real'],cal_fund['y_pred']).ravel()\n",
    "print('TN:{0} FP:{1} N:{2}'.format(tn,fp,(tn+fp)))\n",
    "print('TP:{0} FN:{1} P:{2}'.format(tp,fn,(tp+fn)))\n",
    "confusion_matrix(cal_fund['y_real'],cal_fund['y_pred'])"
   ]
  },
  {
   "cell_type": "code",
   "execution_count": 64,
   "metadata": {},
   "outputs": [
    {
     "name": "stdout",
     "output_type": "stream",
     "text": [
      "ROC-AUC:0.7165061613337474\n",
      "Classification Report:\n",
      "              precision    recall  f1-score   support\n",
      "\n",
      "           0       0.87      0.64      0.74       740\n",
      "           1       0.42      0.72      0.53       261\n",
      "\n",
      "   micro avg       0.66      0.66      0.66      1001\n",
      "   macro avg       0.64      0.68      0.63      1001\n",
      "weighted avg       0.75      0.66      0.68      1001\n",
      "\n"
     ]
    }
   ],
   "source": [
    "##EVALUATION\n",
    "print('ROC-AUC:{}'.format(roc_auc_score(yf_test,cal_fund['y_score'])))\n",
    "print('Classification Report:')\n",
    "print(classification_report(yf_test,cal_fund['y_pred']))"
   ]
  },
  {
   "cell_type": "code",
   "execution_count": 65,
   "metadata": {},
   "outputs": [],
   "source": [
    "lfc_fund = cal_fund.copy()"
   ]
  },
  {
   "cell_type": "markdown",
   "metadata": {},
   "source": [
    "## LIFT CHART"
   ]
  },
  {
   "cell_type": "code",
   "execution_count": 66,
   "metadata": {},
   "outputs": [
    {
     "data": {
      "text/html": [
       "<div>\n",
       "<style scoped>\n",
       "    .dataframe tbody tr th:only-of-type {\n",
       "        vertical-align: middle;\n",
       "    }\n",
       "\n",
       "    .dataframe tbody tr th {\n",
       "        vertical-align: top;\n",
       "    }\n",
       "\n",
       "    .dataframe thead th {\n",
       "        text-align: right;\n",
       "    }\n",
       "</style>\n",
       "<table border=\"1\" class=\"dataframe\">\n",
       "  <thead>\n",
       "    <tr style=\"text-align: right;\">\n",
       "      <th></th>\n",
       "      <th>y_real</th>\n",
       "      <th>y_score</th>\n",
       "      <th>Total %</th>\n",
       "      <th>Target %</th>\n",
       "      <th>Baseline</th>\n",
       "      <th>Ideal Model</th>\n",
       "    </tr>\n",
       "  </thead>\n",
       "  <tbody>\n",
       "    <tr>\n",
       "      <th>7047</th>\n",
       "      <td>1</td>\n",
       "      <td>0.804882</td>\n",
       "      <td>0.000999</td>\n",
       "      <td>0.003831</td>\n",
       "      <td>0.000999</td>\n",
       "      <td>0.003831</td>\n",
       "    </tr>\n",
       "    <tr>\n",
       "      <th>8243</th>\n",
       "      <td>1</td>\n",
       "      <td>0.796677</td>\n",
       "      <td>0.001998</td>\n",
       "      <td>0.007663</td>\n",
       "      <td>0.001998</td>\n",
       "      <td>0.007663</td>\n",
       "    </tr>\n",
       "    <tr>\n",
       "      <th>4247</th>\n",
       "      <td>1</td>\n",
       "      <td>0.796187</td>\n",
       "      <td>0.002997</td>\n",
       "      <td>0.011494</td>\n",
       "      <td>0.002997</td>\n",
       "      <td>0.011494</td>\n",
       "    </tr>\n",
       "    <tr>\n",
       "      <th>7690</th>\n",
       "      <td>1</td>\n",
       "      <td>0.788842</td>\n",
       "      <td>0.003996</td>\n",
       "      <td>0.015326</td>\n",
       "      <td>0.003996</td>\n",
       "      <td>0.015326</td>\n",
       "    </tr>\n",
       "    <tr>\n",
       "      <th>7455</th>\n",
       "      <td>1</td>\n",
       "      <td>0.772198</td>\n",
       "      <td>0.004995</td>\n",
       "      <td>0.019157</td>\n",
       "      <td>0.004995</td>\n",
       "      <td>0.019157</td>\n",
       "    </tr>\n",
       "  </tbody>\n",
       "</table>\n",
       "</div>"
      ],
      "text/plain": [
       "      y_real   y_score   Total %  Target %  Baseline  Ideal Model\n",
       "7047       1  0.804882  0.000999  0.003831  0.000999     0.003831\n",
       "8243       1  0.796677  0.001998  0.007663  0.001998     0.007663\n",
       "4247       1  0.796187  0.002997  0.011494  0.002997     0.011494\n",
       "7690       1  0.788842  0.003996  0.015326  0.003996     0.015326\n",
       "7455       1  0.772198  0.004995  0.019157  0.004995     0.019157"
      ]
     },
     "execution_count": 66,
     "metadata": {},
     "output_type": "execute_result"
    }
   ],
   "source": [
    "lift = lfc_fund[['y_real','y_score']]\n",
    "lift['cte'] = 1\n",
    "lift.sort_values('y_score', ascending=False, inplace=True)\n",
    "lift['Total %'] = lift['cte'].cumsum()/lift['cte'].sum()\n",
    "lift['Target %'] = lift['y_real'].cumsum()/lift['y_real'].sum()\n",
    "lift['Baseline'] = lift['Total %']\n",
    "lift['y_sort'] = lift['y_real'].sort_values(ascending=False).values\n",
    "lift['Ideal Model'] = lift['y_sort'].cumsum()/lift['y_sort'].sum()\n",
    "lift.drop(['cte','y_sort'],axis=1,inplace=True)\n",
    "lift.head()"
   ]
  },
  {
   "cell_type": "code",
   "execution_count": 67,
   "metadata": {},
   "outputs": [
    {
     "data": {
      "image/png": "[encoded data removed]",
      "text/plain": [
       "<Figure size 576x576 with 1 Axes>"
      ]
     },
     "metadata": {
      "needs_background": "light"
     },
     "output_type": "display_data"
    }
   ],
   "source": [
    "fig, ax = plt.subplots(1,1,figsize=(8,8))\n",
    "lift.plot(x='Total %',y='Baseline',ax=ax, grid=True, legend=True, style='k--')\n",
    "lift.plot(x='Total %',y='Ideal Model',ax=ax, grid=True, legend=True, style='r')\n",
    "lift.plot(x='Total %',y='Target %', ax=ax, grid=True, legend=False)\n",
    "ax.set_xlabel('Total Advisers Percentage',fontsize=16)\n",
    "ax.set_ylabel('Positive Responders Percentage',fontsize=16)\n",
    "ax.set_title('Lift Chart - Adding New Fund Predictions',fontsize=16);"
   ]
  },
  {
   "cell_type": "code",
   "execution_count": 68,
   "metadata": {},
   "outputs": [
    {
     "name": "stdout",
     "output_type": "stream",
     "text": [
      "Base Rate: 0.26073926073926074\n",
      "Target Mean: 0.26073926073926074\n"
     ]
    }
   ],
   "source": [
    "##BASE RATE:\n",
    "BR = lift['y_real'].sum()/len(lift)\n",
    "print('Base Rate:',BR)\n",
    "print('Target Mean:',lift['y_real'].mean())"
   ]
  },
  {
   "cell_type": "code",
   "execution_count": 69,
   "metadata": {
    "scrolled": true
   },
   "outputs": [],
   "source": [
    "rng = np.linspace(0.1,1.0,100)\n",
    "lift_lkup = {}\n",
    "for f in rng:\n",
    "    fr = float(round(f,2))\n",
    "    g,lf = up_lift(lift,'y_real',fr)\n",
    "    lift_lkup[fr] = (g,lf)"
   ]
  },
  {
   "cell_type": "code",
   "execution_count": 70,
   "metadata": {},
   "outputs": [
    {
     "name": "stdout",
     "output_type": "stream",
     "text": [
      "Gain:0.20689655172413793 Lift:2.068965517241379\n",
      "Gain:0.39846743295019155 Lift:1.9923371647509576\n",
      "Gain:0.5363984674329502 Lift:1.7879948914431674\n",
      "Gain:0.6513409961685823 Lift:1.6283524904214557\n",
      "Gain:0.7662835249042146 Lift:1.5325670498084292\n",
      "Gain:0.8390804597701149 Lift:1.3984674329501916\n",
      "Gain:0.8544061302681992 Lift:1.2205801860974275\n",
      "Gain:0.896551724137931 Lift:1.1206896551724137\n",
      "Gain:0.9540229885057471 Lift:1.0600255427841634\n",
      "Gain:1.0 Lift:1.0\n"
     ]
    }
   ],
   "source": [
    "fractions = [0.1,0.2,0.3,0.4,0.5,0.6,0.7,0.8,0.9,1.0]\n",
    "for f in fractions:\n",
    "    print('Gain:{0} Lift:{1}'.format(lift_lkup[f][0],lift_lkup[f][1]))"
   ]
  },
  {
   "cell_type": "code",
   "execution_count": 73,
   "metadata": {},
   "outputs": [
    {
     "data": {
      "text/html": [
       "<div>\n",
       "<style scoped>\n",
       "    .dataframe tbody tr th:only-of-type {\n",
       "        vertical-align: middle;\n",
       "    }\n",
       "\n",
       "    .dataframe tbody tr th {\n",
       "        vertical-align: top;\n",
       "    }\n",
       "\n",
       "    .dataframe thead th {\n",
       "        text-align: right;\n",
       "    }\n",
       "</style>\n",
       "<table border=\"1\" class=\"dataframe\">\n",
       "  <thead>\n",
       "    <tr style=\"text-align: right;\">\n",
       "      <th></th>\n",
       "      <th>y_real</th>\n",
       "      <th>y_score</th>\n",
       "      <th>Total %</th>\n",
       "      <th>Target %</th>\n",
       "      <th>Baseline</th>\n",
       "      <th>Ideal Model</th>\n",
       "    </tr>\n",
       "  </thead>\n",
       "  <tbody>\n",
       "    <tr>\n",
       "      <th>7047</th>\n",
       "      <td>1</td>\n",
       "      <td>0.804882</td>\n",
       "      <td>0.000999</td>\n",
       "      <td>0.003831</td>\n",
       "      <td>0.000999</td>\n",
       "      <td>0.003831</td>\n",
       "    </tr>\n",
       "    <tr>\n",
       "      <th>8243</th>\n",
       "      <td>1</td>\n",
       "      <td>0.796677</td>\n",
       "      <td>0.001998</td>\n",
       "      <td>0.007663</td>\n",
       "      <td>0.001998</td>\n",
       "      <td>0.007663</td>\n",
       "    </tr>\n",
       "    <tr>\n",
       "      <th>4247</th>\n",
       "      <td>1</td>\n",
       "      <td>0.796187</td>\n",
       "      <td>0.002997</td>\n",
       "      <td>0.011494</td>\n",
       "      <td>0.002997</td>\n",
       "      <td>0.011494</td>\n",
       "    </tr>\n",
       "    <tr>\n",
       "      <th>7690</th>\n",
       "      <td>1</td>\n",
       "      <td>0.788842</td>\n",
       "      <td>0.003996</td>\n",
       "      <td>0.015326</td>\n",
       "      <td>0.003996</td>\n",
       "      <td>0.015326</td>\n",
       "    </tr>\n",
       "    <tr>\n",
       "      <th>7455</th>\n",
       "      <td>1</td>\n",
       "      <td>0.772198</td>\n",
       "      <td>0.004995</td>\n",
       "      <td>0.019157</td>\n",
       "      <td>0.004995</td>\n",
       "      <td>0.019157</td>\n",
       "    </tr>\n",
       "    <tr>\n",
       "      <th>1801</th>\n",
       "      <td>0</td>\n",
       "      <td>0.770371</td>\n",
       "      <td>0.005994</td>\n",
       "      <td>0.019157</td>\n",
       "      <td>0.005994</td>\n",
       "      <td>0.022989</td>\n",
       "    </tr>\n",
       "    <tr>\n",
       "      <th>5607</th>\n",
       "      <td>1</td>\n",
       "      <td>0.766610</td>\n",
       "      <td>0.006993</td>\n",
       "      <td>0.022989</td>\n",
       "      <td>0.006993</td>\n",
       "      <td>0.026820</td>\n",
       "    </tr>\n",
       "    <tr>\n",
       "      <th>9520</th>\n",
       "      <td>0</td>\n",
       "      <td>0.765539</td>\n",
       "      <td>0.007992</td>\n",
       "      <td>0.022989</td>\n",
       "      <td>0.007992</td>\n",
       "      <td>0.030651</td>\n",
       "    </tr>\n",
       "    <tr>\n",
       "      <th>4505</th>\n",
       "      <td>1</td>\n",
       "      <td>0.765539</td>\n",
       "      <td>0.008991</td>\n",
       "      <td>0.026820</td>\n",
       "      <td>0.008991</td>\n",
       "      <td>0.034483</td>\n",
       "    </tr>\n",
       "    <tr>\n",
       "      <th>4070</th>\n",
       "      <td>1</td>\n",
       "      <td>0.765539</td>\n",
       "      <td>0.009990</td>\n",
       "      <td>0.030651</td>\n",
       "      <td>0.009990</td>\n",
       "      <td>0.038314</td>\n",
       "    </tr>\n",
       "  </tbody>\n",
       "</table>\n",
       "</div>"
      ],
      "text/plain": [
       "      y_real   y_score   Total %  Target %  Baseline  Ideal Model\n",
       "7047       1  0.804882  0.000999  0.003831  0.000999     0.003831\n",
       "8243       1  0.796677  0.001998  0.007663  0.001998     0.007663\n",
       "4247       1  0.796187  0.002997  0.011494  0.002997     0.011494\n",
       "7690       1  0.788842  0.003996  0.015326  0.003996     0.015326\n",
       "7455       1  0.772198  0.004995  0.019157  0.004995     0.019157\n",
       "1801       0  0.770371  0.005994  0.019157  0.005994     0.022989\n",
       "5607       1  0.766610  0.006993  0.022989  0.006993     0.026820\n",
       "9520       0  0.765539  0.007992  0.022989  0.007992     0.030651\n",
       "4505       1  0.765539  0.008991  0.026820  0.008991     0.034483\n",
       "4070       1  0.765539  0.009990  0.030651  0.009990     0.038314"
      ]
     },
     "execution_count": 73,
     "metadata": {},
     "output_type": "execute_result"
    }
   ],
   "source": [
    "lift.head(10)"
   ]
  },
  {
   "cell_type": "code",
   "execution_count": 86,
   "metadata": {},
   "outputs": [
    {
     "data": {
      "text/plain": [
       "(0.2157, 0.2161]    109\n",
       "(0.2094, 0.2157]    101\n",
       "(0.9752, 1.0]       100\n",
       "(0.9241, 0.9752]    100\n",
       "(0.8155, 0.9241]    100\n",
       "(0.6679, 0.8155]    100\n",
       "(0.3079, 0.6679]    100\n",
       "(0.2181, 0.2223]     99\n",
       "(0.2223, 0.3079]     97\n",
       "(0.2161, 0.2181]     95\n",
       "Name: intervals, dtype: int64"
      ]
     },
     "execution_count": 86,
     "metadata": {},
     "output_type": "execute_result"
    }
   ],
   "source": [
    "lift_chr = lift.copy()\n",
    "lift_chr['deciles'] = pd.qcut(lift_tab['y_score'], 10, labels=False)\n",
    "lift_chr['intervals'] = pd.qcut(lift_tab['y_score'], 10)\n",
    "lift_chr['contact_id'] = lift_tab.index.map(adviser_lookup)\n",
    "lift_chr['intervals'].value_counts()"
   ]
  },
  {
   "cell_type": "code",
   "execution_count": 94,
   "metadata": {},
   "outputs": [
    {
     "data": {
      "text/html": [
       "<div>\n",
       "<style scoped>\n",
       "    .dataframe tbody tr th:only-of-type {\n",
       "        vertical-align: middle;\n",
       "    }\n",
       "\n",
       "    .dataframe tbody tr th {\n",
       "        vertical-align: top;\n",
       "    }\n",
       "\n",
       "    .dataframe thead th {\n",
       "        text-align: right;\n",
       "    }\n",
       "</style>\n",
       "<table border=\"1\" class=\"dataframe\">\n",
       "  <thead>\n",
       "    <tr style=\"text-align: right;\">\n",
       "      <th></th>\n",
       "      <th>deciles</th>\n",
       "      <th>y_real</th>\n",
       "      <th>contact_id</th>\n",
       "      <th>y_score</th>\n",
       "      <th>Probability</th>\n",
       "    </tr>\n",
       "  </thead>\n",
       "  <tbody>\n",
       "    <tr>\n",
       "      <th>0</th>\n",
       "      <td>10</td>\n",
       "      <td>8</td>\n",
       "      <td>101</td>\n",
       "      <td>0.267060</td>\n",
       "      <td>0.08</td>\n",
       "    </tr>\n",
       "    <tr>\n",
       "      <th>1</th>\n",
       "      <td>9</td>\n",
       "      <td>36</td>\n",
       "      <td>109</td>\n",
       "      <td>0.598557</td>\n",
       "      <td>0.33</td>\n",
       "    </tr>\n",
       "    <tr>\n",
       "      <th>2</th>\n",
       "      <td>8</td>\n",
       "      <td>15</td>\n",
       "      <td>95</td>\n",
       "      <td>0.265432</td>\n",
       "      <td>0.16</td>\n",
       "    </tr>\n",
       "    <tr>\n",
       "      <th>3</th>\n",
       "      <td>7</td>\n",
       "      <td>13</td>\n",
       "      <td>99</td>\n",
       "      <td>0.279410</td>\n",
       "      <td>0.13</td>\n",
       "    </tr>\n",
       "    <tr>\n",
       "      <th>4</th>\n",
       "      <td>6</td>\n",
       "      <td>11</td>\n",
       "      <td>97</td>\n",
       "      <td>0.315402</td>\n",
       "      <td>0.11</td>\n",
       "    </tr>\n",
       "    <tr>\n",
       "      <th>5</th>\n",
       "      <td>5</td>\n",
       "      <td>28</td>\n",
       "      <td>100</td>\n",
       "      <td>0.525844</td>\n",
       "      <td>0.28</td>\n",
       "    </tr>\n",
       "    <tr>\n",
       "      <th>6</th>\n",
       "      <td>4</td>\n",
       "      <td>22</td>\n",
       "      <td>100</td>\n",
       "      <td>0.513186</td>\n",
       "      <td>0.22</td>\n",
       "    </tr>\n",
       "    <tr>\n",
       "      <th>7</th>\n",
       "      <td>3</td>\n",
       "      <td>34</td>\n",
       "      <td>100</td>\n",
       "      <td>0.575147</td>\n",
       "      <td>0.34</td>\n",
       "    </tr>\n",
       "    <tr>\n",
       "      <th>8</th>\n",
       "      <td>2</td>\n",
       "      <td>40</td>\n",
       "      <td>100</td>\n",
       "      <td>0.631074</td>\n",
       "      <td>0.40</td>\n",
       "    </tr>\n",
       "    <tr>\n",
       "      <th>9</th>\n",
       "      <td>1</td>\n",
       "      <td>54</td>\n",
       "      <td>100</td>\n",
       "      <td>0.678046</td>\n",
       "      <td>0.54</td>\n",
       "    </tr>\n",
       "  </tbody>\n",
       "</table>\n",
       "</div>"
      ],
      "text/plain": [
       "   deciles  y_real  contact_id   y_score  Probability\n",
       "0       10       8         101  0.267060         0.08\n",
       "1        9      36         109  0.598557         0.33\n",
       "2        8      15          95  0.265432         0.16\n",
       "3        7      13          99  0.279410         0.13\n",
       "4        6      11          97  0.315402         0.11\n",
       "5        5      28         100  0.525844         0.28\n",
       "6        4      22         100  0.513186         0.22\n",
       "7        3      34         100  0.575147         0.34\n",
       "8        2      40         100  0.631074         0.40\n",
       "9        1      54         100  0.678046         0.54"
      ]
     },
     "execution_count": 94,
     "metadata": {},
     "output_type": "execute_result"
    }
   ],
   "source": [
    "fund_char = (lift_chr.groupby('deciles')\n",
    "              .agg({'y_real':'sum','contact_id':'count','y_score':'mean'})\n",
    "              #.droplevel(0, axis=1)\n",
    "              .reset_index()\n",
    "             )\n",
    "fund_char['deciles'] = fund_char['deciles'].apply(lambda x: (x-10)*-1)\n",
    "fund_char['Probability'] = round(fund_char['y_real']/fund_char['contact_id'],2)\n",
    "fund_char"
   ]
  },
  {
   "cell_type": "code",
   "execution_count": 99,
   "metadata": {},
   "outputs": [
    {
     "data": {
      "image/png": "[encoded data removed]",
      "text/plain": [
       "<Figure size 576x360 with 1 Axes>"
      ]
     },
     "metadata": {
      "needs_background": "light"
     },
     "output_type": "display_data"
    }
   ],
   "source": [
    "fig, ax = plt.subplots(figsize=(8,5))\n",
    "fund_char.plot(kind='bar', x='deciles', y='Probability', ax=ax, legend=None)\n",
    "ax.set_xlabel(\"Deciles\", fontsize=16)\n",
    "ax.set_ylabel(\"Probability\", fontsize=16)\n",
    "ax.set_title(\"New Fund Added by Decile\", fontsize=16)\n",
    "ax.spines['top'].set_visible(False);\n",
    "ax.spines['right'].set_visible(False);"
   ]
  },
  {
   "cell_type": "code",
   "execution_count": null,
   "metadata": {},
   "outputs": [],
   "source": []
  }
 ],
 "metadata": {
  "kernelspec": {
   "display_name": "Python 3",
   "language": "python",
   "name": "python3"
  },
  "language_info": {
   "codemirror_mode": {
    "name": "ipython",
    "version": 3
   },
   "file_extension": ".py",
   "mimetype": "text/x-python",
   "name": "python",
   "nbconvert_exporter": "python",
   "pygments_lexer": "ipython3",
   "version": "3.7.3"
  }
 },
 "nbformat": 4,
 "nbformat_minor": 4
}
